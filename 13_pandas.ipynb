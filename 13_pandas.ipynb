{
 "cells": [
  {
   "cell_type": "markdown",
   "metadata": {},
   "source": [
    "# What is Pandas?\n",
    "\n",
    "\n",
    "Pandas is an opensource library that allows to you perform data\n",
    "manipulation in Python. Pandas library is built on top of Numpy, meaning\n",
    "Pandas needs Numpy to operate. Pandas provide an easy way to create,\n",
    "manipulate and wrangle the data. Pandas is also an elegant solution for\n",
    "time series data.\n",
    "\n",
    "## Why use Pandas?\n",
    "\n",
    "\n",
    "Data scientists use Pandas for its following advantages:\n",
    "\n",
    "-   Easily handles missing data\n",
    "\n",
    "-   It uses **Series for one-dimensional data structure** and\n",
    "    **DataFrame for multi-dimensional data structure**\n",
    "\n",
    "-   It provides an efficient way to slice the data\n",
    "\n",
    "-   It provides a flexible way to merge, concatenate or reshape the data\n",
    "\n",
    "-   It includes a powerful time series tool to work with\n",
    "\n",
    "In a nutshell, Pandas is a useful library in data analysis. It can be\n",
    "used to perform data manipulation and analysis. Pandas provide powerful\n",
    "and easy-to-use data structures, as well as the means to quickly perform\n",
    "operations on these structures.\n",
    "\n",
    "## How to install Pandas?\n",
    "\n",
    "\n",
    "To install Pandas library, please refer our tutorial How to install\n",
    "TensorFlow. Pandas is installed by default. In remote case, pandas not\n",
    "installed-\n",
    "\n",
    "You can install Pandas using:\n",
    "\n",
    "-   Anaconda: `conda install -c anaconda pandas`\n",
    "\n",
    "-   In Jupyter Notebook :"
   ]
  },
  {
   "cell_type": "markdown",
   "metadata": {},
   "source": [
    "```\n",
    "import sys\n",
    "!conda install --yes --prefix {sys.prefix} pandas\n",
    "```"
   ]
  },
  {
   "cell_type": "markdown",
   "metadata": {},
   "source": [
    "## What is a data frame?\n",
    "\n",
    "\n",
    "A data frame is a two-dimensional array, with labeled axes (rows and\n",
    "columns). A data frame is a standard way to store data.\n",
    "\n",
    "Data frame is well-known by statistician and other data practitioners. A\n",
    "data frame is a tabular data, with rows to store the information and\n",
    "columns to name the information. For instance, the price can be the name\n",
    "of a column and 2,3,4 the price values.\n",
    "\n",
    "Below a picture of a Pandas data frame:\n",
    "\n",
    "![](https://github.com/thomaspernet/Tensorflow/blob/master/tensorflow/13_pandas_v6_files/image001.png)\n",
    "\n",
    "\n",
    "## What is a Series?\n",
    "\n",
    "\n",
    "A series is a one-dimensional data structure. It\n",
    "can have any data structure like integer, float, and string. It is\n",
    "useful when you want to perform computation or return a one-dimensional\n",
    "array. A series, by definition, cannot have multiple columns. For the\n",
    "latter case, please use the data frame structure.\n",
    "\n",
    "Series has one parameters:\n",
    "\n",
    "- *Data: can be a list, dictionary or scalar value*"
   ]
  },
  {
   "cell_type": "code",
   "execution_count": 1,
   "metadata": {},
   "outputs": [
    {
     "data": {
      "text/plain": [
       "0    1.0\n",
       "1    2.0\n",
       "2    3.0\n",
       "dtype: float64"
      ]
     },
     "execution_count": 1,
     "metadata": {},
     "output_type": "execute_result"
    }
   ],
   "source": [
    "import pandas as pd\n",
    "pd.Series([1., 2., 3.])"
   ]
  },
  {
   "cell_type": "markdown",
   "metadata": {},
   "source": [
    "You can add the index with `index`. It helps to name the rows. The\n",
    "length should be equal to the size of the column"
   ]
  },
  {
   "cell_type": "code",
   "execution_count": 2,
   "metadata": {},
   "outputs": [
    {
     "data": {
      "text/plain": [
       "a    1.0\n",
       "b    2.0\n",
       "c    3.0\n",
       "dtype: float64"
      ]
     },
     "execution_count": 2,
     "metadata": {},
     "output_type": "execute_result"
    }
   ],
   "source": [
    "pd.Series([1., 2., 3.], index=['a', 'b', 'c'])"
   ]
  },
  {
   "cell_type": "markdown",
   "metadata": {},
   "source": [
    "Below, you create a Pandas series with a missing value for the third rows. Note, missing values in Python are noted \"NaN.\" You can use numpy to create missing value: np.nan artificially"
   ]
  },
  {
   "cell_type": "code",
   "execution_count": 3,
   "metadata": {},
   "outputs": [
    {
     "data": {
      "text/plain": [
       "0    1.0\n",
       "1    2.0\n",
       "2    NaN\n",
       "dtype: float64"
      ]
     },
     "execution_count": 3,
     "metadata": {},
     "output_type": "execute_result"
    }
   ],
   "source": [
    "import numpy as np\n",
    "pd.Series([1,2,np.nan])"
   ]
  },
  {
   "cell_type": "markdown",
   "metadata": {},
   "source": [
    "### Create Data frame\n",
    "\n",
    "You can convert a numpy array to a pandas data frame with\n",
    "`pd.Data frame()`. The opposite is also possible. To convert a pandas\n",
    "Data Frame to an array, you can use `np.array()`"
   ]
  },
  {
   "cell_type": "code",
   "execution_count": 4,
   "metadata": {},
   "outputs": [
    {
     "name": "stdout",
     "output_type": "stream",
     "text": [
      "Data Frame:    0  1\n",
      "0  1  2\n",
      "1  3  4\n",
      "Numpy array: [[1 2]\n",
      " [3 4]]\n"
     ]
    }
   ],
   "source": [
    "## Numpy to pandas\n",
    "import numpy as np\n",
    "h = [[1,2],[3,4]] \n",
    "df_h = pd.DataFrame(h)\n",
    "print('Data Frame:', df_h)\n",
    "\n",
    "## Pandas to numpy\n",
    "df_h_n = np.array(df_h)\n",
    "print('Numpy array:', df_h_n)"
   ]
  },
  {
   "cell_type": "markdown",
   "metadata": {},
   "source": [
    "You can also use a dictionary to create a Pandas dataframe."
   ]
  },
  {
   "cell_type": "code",
   "execution_count": 5,
   "metadata": {},
   "outputs": [
    {
     "data": {
      "text/html": [
       "<div>\n",
       "<style scoped>\n",
       "    .dataframe tbody tr th:only-of-type {\n",
       "        vertical-align: middle;\n",
       "    }\n",
       "\n",
       "    .dataframe tbody tr th {\n",
       "        vertical-align: top;\n",
       "    }\n",
       "\n",
       "    .dataframe thead th {\n",
       "        text-align: right;\n",
       "    }\n",
       "</style>\n",
       "<table border=\"1\" class=\"dataframe\">\n",
       "  <thead>\n",
       "    <tr style=\"text-align: right;\">\n",
       "      <th></th>\n",
       "      <th>Name</th>\n",
       "      <th>Age</th>\n",
       "    </tr>\n",
       "  </thead>\n",
       "  <tbody>\n",
       "    <tr>\n",
       "      <th>0</th>\n",
       "      <td>John</td>\n",
       "      <td>30</td>\n",
       "    </tr>\n",
       "    <tr>\n",
       "      <th>1</th>\n",
       "      <td>Smith</td>\n",
       "      <td>40</td>\n",
       "    </tr>\n",
       "  </tbody>\n",
       "</table>\n",
       "</div>"
      ],
      "text/plain": [
       "    Name  Age\n",
       "0   John   30\n",
       "1  Smith   40"
      ]
     },
     "execution_count": 5,
     "metadata": {},
     "output_type": "execute_result"
    }
   ],
   "source": [
    "dic = {'Name': [\"John\", \"Smith\"], 'Age': [30, 40]}\n",
    "\n",
    "pd.DataFrame(data=dic)"
   ]
  },
  {
   "cell_type": "markdown",
   "metadata": {},
   "source": [
    "### Range Data\n",
    "\n",
    "Pandas have a convenient API to create a range of date\n",
    "\n",
    "`pd.data_range(``date,period,frequency``)`:\n",
    "\n",
    "-   The first parameter is the starting date\n",
    "\n",
    "-   The second parameter is the number of periods (optional if the end\n",
    "    date is specified)\n",
    "\n",
    "-   The last parameter is the frequency: day: 'D,' month: 'M' and year:\n",
    "    'Y.'"
   ]
  },
  {
   "cell_type": "code",
   "execution_count": 6,
   "metadata": {},
   "outputs": [
    {
     "name": "stdout",
     "output_type": "stream",
     "text": [
      "Day: DatetimeIndex(['2030-01-01', '2030-01-02', '2030-01-03', '2030-01-04',\n",
      "               '2030-01-05', '2030-01-06'],\n",
      "              dtype='datetime64[ns]', freq='D')\n"
     ]
    }
   ],
   "source": [
    "## Create date\n",
    "\n",
    "# Days\n",
    "\n",
    "dates_d = pd.date_range('20300101', periods=6, freq='D')\n",
    "\n",
    "print('Day:', dates_d)"
   ]
  },
  {
   "cell_type": "markdown",
   "metadata": {},
   "source": [
    "We month frequency"
   ]
  },
  {
   "cell_type": "code",
   "execution_count": 7,
   "metadata": {},
   "outputs": [
    {
     "name": "stdout",
     "output_type": "stream",
     "text": [
      "Month: DatetimeIndex(['2030-01-31', '2030-02-28', '2030-03-31', '2030-04-30',\n",
      "               '2030-05-31', '2030-06-30'],\n",
      "              dtype='datetime64[ns]', freq='M')\n"
     ]
    }
   ],
   "source": [
    "# Months\n",
    "dates_m = pd.date_range('20300101', periods=6, freq='M')\n",
    "print('Month:', dates_m)"
   ]
  },
  {
   "cell_type": "markdown",
   "metadata": {},
   "source": [
    "### Inspecting data\n",
    "\n",
    "You can check the head or tail of the dataset with `head()`, or `tail()`\n",
    "preceded by the name of the panda's data frame\n",
    "\n",
    "**Step 1**: Create a random sequence with numpy. The sequence has 4 columns\n",
    "and 6 rows"
   ]
  },
  {
   "cell_type": "code",
   "execution_count": 8,
   "metadata": {},
   "outputs": [],
   "source": [
    "random = np.random.randn(6,4)"
   ]
  },
  {
   "cell_type": "markdown",
   "metadata": {},
   "source": [
    "**Step 2**: Then you create a data frame using pandas.\n",
    "\n",
    "Use `dates_m` as an index for the data frame. It means each row will be\n",
    "given a `name` or an index, corresponding to a date.\n",
    "\n",
    "Finally, you give a name to the 4 columns with the argument columns"
   ]
  },
  {
   "cell_type": "code",
   "execution_count": 9,
   "metadata": {},
   "outputs": [],
   "source": [
    "#Create data with date\n",
    "df = pd.DataFrame(random,\n",
    "                      index=dates_m,\n",
    "                      columns=list('ABCD'))"
   ]
  },
  {
   "cell_type": "markdown",
   "metadata": {},
   "source": [
    "**Step 3**: Using head function"
   ]
  },
  {
   "cell_type": "code",
   "execution_count": 10,
   "metadata": {},
   "outputs": [
    {
     "data": {
      "text/html": [
       "<div>\n",
       "<style scoped>\n",
       "    .dataframe tbody tr th:only-of-type {\n",
       "        vertical-align: middle;\n",
       "    }\n",
       "\n",
       "    .dataframe tbody tr th {\n",
       "        vertical-align: top;\n",
       "    }\n",
       "\n",
       "    .dataframe thead th {\n",
       "        text-align: right;\n",
       "    }\n",
       "</style>\n",
       "<table border=\"1\" class=\"dataframe\">\n",
       "  <thead>\n",
       "    <tr style=\"text-align: right;\">\n",
       "      <th></th>\n",
       "      <th>A</th>\n",
       "      <th>B</th>\n",
       "      <th>C</th>\n",
       "      <th>D</th>\n",
       "    </tr>\n",
       "  </thead>\n",
       "  <tbody>\n",
       "    <tr>\n",
       "      <th>2030-01-31</th>\n",
       "      <td>0.514343</td>\n",
       "      <td>0.287027</td>\n",
       "      <td>-0.685054</td>\n",
       "      <td>-0.397711</td>\n",
       "    </tr>\n",
       "    <tr>\n",
       "      <th>2030-02-28</th>\n",
       "      <td>-0.731074</td>\n",
       "      <td>-0.307389</td>\n",
       "      <td>-0.459713</td>\n",
       "      <td>0.239637</td>\n",
       "    </tr>\n",
       "    <tr>\n",
       "      <th>2030-03-31</th>\n",
       "      <td>-0.281103</td>\n",
       "      <td>-0.177057</td>\n",
       "      <td>-0.407565</td>\n",
       "      <td>0.458357</td>\n",
       "    </tr>\n",
       "  </tbody>\n",
       "</table>\n",
       "</div>"
      ],
      "text/plain": [
       "                   A         B         C         D\n",
       "2030-01-31  0.514343  0.287027 -0.685054 -0.397711\n",
       "2030-02-28 -0.731074 -0.307389 -0.459713  0.239637\n",
       "2030-03-31 -0.281103 -0.177057 -0.407565  0.458357"
      ]
     },
     "execution_count": 10,
     "metadata": {},
     "output_type": "execute_result"
    }
   ],
   "source": [
    "df.head(3)"
   ]
  },
  {
   "cell_type": "markdown",
   "metadata": {},
   "source": [
    "**Step 4**: Using tail function"
   ]
  },
  {
   "cell_type": "code",
   "execution_count": 11,
   "metadata": {},
   "outputs": [
    {
     "data": {
      "text/html": [
       "<div>\n",
       "<style scoped>\n",
       "    .dataframe tbody tr th:only-of-type {\n",
       "        vertical-align: middle;\n",
       "    }\n",
       "\n",
       "    .dataframe tbody tr th {\n",
       "        vertical-align: top;\n",
       "    }\n",
       "\n",
       "    .dataframe thead th {\n",
       "        text-align: right;\n",
       "    }\n",
       "</style>\n",
       "<table border=\"1\" class=\"dataframe\">\n",
       "  <thead>\n",
       "    <tr style=\"text-align: right;\">\n",
       "      <th></th>\n",
       "      <th>A</th>\n",
       "      <th>B</th>\n",
       "      <th>C</th>\n",
       "      <th>D</th>\n",
       "    </tr>\n",
       "  </thead>\n",
       "  <tbody>\n",
       "    <tr>\n",
       "      <th>2030-04-30</th>\n",
       "      <td>-0.385395</td>\n",
       "      <td>-0.271028</td>\n",
       "      <td>-1.112809</td>\n",
       "      <td>-1.329216</td>\n",
       "    </tr>\n",
       "    <tr>\n",
       "      <th>2030-05-31</th>\n",
       "      <td>-0.579776</td>\n",
       "      <td>1.184640</td>\n",
       "      <td>1.491945</td>\n",
       "      <td>-0.929881</td>\n",
       "    </tr>\n",
       "    <tr>\n",
       "      <th>2030-06-30</th>\n",
       "      <td>1.917823</td>\n",
       "      <td>-1.710837</td>\n",
       "      <td>-0.241643</td>\n",
       "      <td>0.267631</td>\n",
       "    </tr>\n",
       "  </tbody>\n",
       "</table>\n",
       "</div>"
      ],
      "text/plain": [
       "                   A         B         C         D\n",
       "2030-04-30 -0.385395 -0.271028 -1.112809 -1.329216\n",
       "2030-05-31 -0.579776  1.184640  1.491945 -0.929881\n",
       "2030-06-30  1.917823 -1.710837 -0.241643  0.267631"
      ]
     },
     "execution_count": 11,
     "metadata": {},
     "output_type": "execute_result"
    }
   ],
   "source": [
    "df.tail(3)"
   ]
  },
  {
   "cell_type": "markdown",
   "metadata": {},
   "source": [
    "**Step 5**: An excellent practice to get a clue about the data is to use\n",
    "`describe()`. It provides the counts, mean, std, min, max and percentile\n",
    "of the dataset."
   ]
  },
  {
   "cell_type": "code",
   "execution_count": 12,
   "metadata": {},
   "outputs": [
    {
     "data": {
      "text/html": [
       "<div>\n",
       "<style scoped>\n",
       "    .dataframe tbody tr th:only-of-type {\n",
       "        vertical-align: middle;\n",
       "    }\n",
       "\n",
       "    .dataframe tbody tr th {\n",
       "        vertical-align: top;\n",
       "    }\n",
       "\n",
       "    .dataframe thead th {\n",
       "        text-align: right;\n",
       "    }\n",
       "</style>\n",
       "<table border=\"1\" class=\"dataframe\">\n",
       "  <thead>\n",
       "    <tr style=\"text-align: right;\">\n",
       "      <th></th>\n",
       "      <th>A</th>\n",
       "      <th>B</th>\n",
       "      <th>C</th>\n",
       "      <th>D</th>\n",
       "    </tr>\n",
       "  </thead>\n",
       "  <tbody>\n",
       "    <tr>\n",
       "      <th>count</th>\n",
       "      <td>6.000000</td>\n",
       "      <td>6.000000</td>\n",
       "      <td>6.000000</td>\n",
       "      <td>6.000000</td>\n",
       "    </tr>\n",
       "    <tr>\n",
       "      <th>mean</th>\n",
       "      <td>0.075803</td>\n",
       "      <td>-0.165774</td>\n",
       "      <td>-0.235807</td>\n",
       "      <td>-0.281864</td>\n",
       "    </tr>\n",
       "    <tr>\n",
       "      <th>std</th>\n",
       "      <td>1.000627</td>\n",
       "      <td>0.943094</td>\n",
       "      <td>0.898415</td>\n",
       "      <td>0.728303</td>\n",
       "    </tr>\n",
       "    <tr>\n",
       "      <th>min</th>\n",
       "      <td>-0.731074</td>\n",
       "      <td>-1.710837</td>\n",
       "      <td>-1.112809</td>\n",
       "      <td>-1.329216</td>\n",
       "    </tr>\n",
       "    <tr>\n",
       "      <th>25%</th>\n",
       "      <td>-0.531181</td>\n",
       "      <td>-0.298299</td>\n",
       "      <td>-0.628719</td>\n",
       "      <td>-0.796838</td>\n",
       "    </tr>\n",
       "    <tr>\n",
       "      <th>50%</th>\n",
       "      <td>-0.333249</td>\n",
       "      <td>-0.224042</td>\n",
       "      <td>-0.433639</td>\n",
       "      <td>-0.079037</td>\n",
       "    </tr>\n",
       "    <tr>\n",
       "      <th>75%</th>\n",
       "      <td>0.315481</td>\n",
       "      <td>0.171006</td>\n",
       "      <td>-0.283124</td>\n",
       "      <td>0.260632</td>\n",
       "    </tr>\n",
       "    <tr>\n",
       "      <th>max</th>\n",
       "      <td>1.917823</td>\n",
       "      <td>1.184640</td>\n",
       "      <td>1.491945</td>\n",
       "      <td>0.458357</td>\n",
       "    </tr>\n",
       "  </tbody>\n",
       "</table>\n",
       "</div>"
      ],
      "text/plain": [
       "              A         B         C         D\n",
       "count  6.000000  6.000000  6.000000  6.000000\n",
       "mean   0.075803 -0.165774 -0.235807 -0.281864\n",
       "std    1.000627  0.943094  0.898415  0.728303\n",
       "min   -0.731074 -1.710837 -1.112809 -1.329216\n",
       "25%   -0.531181 -0.298299 -0.628719 -0.796838\n",
       "50%   -0.333249 -0.224042 -0.433639 -0.079037\n",
       "75%    0.315481  0.171006 -0.283124  0.260632\n",
       "max    1.917823  1.184640  1.491945  0.458357"
      ]
     },
     "execution_count": 12,
     "metadata": {},
     "output_type": "execute_result"
    }
   ],
   "source": [
    "df.describe()"
   ]
  },
  {
   "cell_type": "markdown",
   "metadata": {},
   "source": [
    "### Slice data\n",
    "\n",
    "The last point of this tutorial is about how to slice a pandas data\n",
    "frame.\n",
    "\n",
    "You can use the column name to extract data in a particular column."
   ]
  },
  {
   "cell_type": "code",
   "execution_count": 13,
   "metadata": {},
   "outputs": [
    {
     "data": {
      "text/plain": [
       "2030-01-31    0.514343\n",
       "2030-02-28   -0.731074\n",
       "2030-03-31   -0.281103\n",
       "2030-04-30   -0.385395\n",
       "2030-05-31   -0.579776\n",
       "2030-06-30    1.917823\n",
       "Freq: M, Name: A, dtype: float64"
      ]
     },
     "execution_count": 13,
     "metadata": {},
     "output_type": "execute_result"
    }
   ],
   "source": [
    "## Slice\n",
    "### Using name\n",
    "df['A']"
   ]
  },
  {
   "cell_type": "markdown",
   "metadata": {},
   "source": [
    "To select multiple columns, you need to use two times the bracket, [[..,..]]\n",
    "\n",
    "The first pair of bracket means you want to select columns, the second\n",
    "pairs of bracket tells what columns you want to return."
   ]
  },
  {
   "cell_type": "code",
   "execution_count": 14,
   "metadata": {},
   "outputs": [
    {
     "data": {
      "text/html": [
       "<div>\n",
       "<style scoped>\n",
       "    .dataframe tbody tr th:only-of-type {\n",
       "        vertical-align: middle;\n",
       "    }\n",
       "\n",
       "    .dataframe tbody tr th {\n",
       "        vertical-align: top;\n",
       "    }\n",
       "\n",
       "    .dataframe thead th {\n",
       "        text-align: right;\n",
       "    }\n",
       "</style>\n",
       "<table border=\"1\" class=\"dataframe\">\n",
       "  <thead>\n",
       "    <tr style=\"text-align: right;\">\n",
       "      <th></th>\n",
       "      <th>A</th>\n",
       "      <th>B</th>\n",
       "    </tr>\n",
       "  </thead>\n",
       "  <tbody>\n",
       "    <tr>\n",
       "      <th>2030-01-31</th>\n",
       "      <td>0.514343</td>\n",
       "      <td>0.287027</td>\n",
       "    </tr>\n",
       "    <tr>\n",
       "      <th>2030-02-28</th>\n",
       "      <td>-0.731074</td>\n",
       "      <td>-0.307389</td>\n",
       "    </tr>\n",
       "    <tr>\n",
       "      <th>2030-03-31</th>\n",
       "      <td>-0.281103</td>\n",
       "      <td>-0.177057</td>\n",
       "    </tr>\n",
       "    <tr>\n",
       "      <th>2030-04-30</th>\n",
       "      <td>-0.385395</td>\n",
       "      <td>-0.271028</td>\n",
       "    </tr>\n",
       "    <tr>\n",
       "      <th>2030-05-31</th>\n",
       "      <td>-0.579776</td>\n",
       "      <td>1.184640</td>\n",
       "    </tr>\n",
       "    <tr>\n",
       "      <th>2030-06-30</th>\n",
       "      <td>1.917823</td>\n",
       "      <td>-1.710837</td>\n",
       "    </tr>\n",
       "  </tbody>\n",
       "</table>\n",
       "</div>"
      ],
      "text/plain": [
       "                   A         B\n",
       "2030-01-31  0.514343  0.287027\n",
       "2030-02-28 -0.731074 -0.307389\n",
       "2030-03-31 -0.281103 -0.177057\n",
       "2030-04-30 -0.385395 -0.271028\n",
       "2030-05-31 -0.579776  1.184640\n",
       "2030-06-30  1.917823 -1.710837"
      ]
     },
     "execution_count": 14,
     "metadata": {},
     "output_type": "execute_result"
    }
   ],
   "source": [
    "df[['A', 'B']]"
   ]
  },
  {
   "cell_type": "markdown",
   "metadata": {},
   "source": [
    "You can slice the rows with :\n",
    "\n",
    "The code below returns the first three rows"
   ]
  },
  {
   "cell_type": "code",
   "execution_count": 15,
   "metadata": {},
   "outputs": [
    {
     "data": {
      "text/html": [
       "<div>\n",
       "<style scoped>\n",
       "    .dataframe tbody tr th:only-of-type {\n",
       "        vertical-align: middle;\n",
       "    }\n",
       "\n",
       "    .dataframe tbody tr th {\n",
       "        vertical-align: top;\n",
       "    }\n",
       "\n",
       "    .dataframe thead th {\n",
       "        text-align: right;\n",
       "    }\n",
       "</style>\n",
       "<table border=\"1\" class=\"dataframe\">\n",
       "  <thead>\n",
       "    <tr style=\"text-align: right;\">\n",
       "      <th></th>\n",
       "      <th>A</th>\n",
       "      <th>B</th>\n",
       "      <th>C</th>\n",
       "      <th>D</th>\n",
       "    </tr>\n",
       "  </thead>\n",
       "  <tbody>\n",
       "    <tr>\n",
       "      <th>2030-01-31</th>\n",
       "      <td>0.514343</td>\n",
       "      <td>0.287027</td>\n",
       "      <td>-0.685054</td>\n",
       "      <td>-0.397711</td>\n",
       "    </tr>\n",
       "    <tr>\n",
       "      <th>2030-02-28</th>\n",
       "      <td>-0.731074</td>\n",
       "      <td>-0.307389</td>\n",
       "      <td>-0.459713</td>\n",
       "      <td>0.239637</td>\n",
       "    </tr>\n",
       "    <tr>\n",
       "      <th>2030-03-31</th>\n",
       "      <td>-0.281103</td>\n",
       "      <td>-0.177057</td>\n",
       "      <td>-0.407565</td>\n",
       "      <td>0.458357</td>\n",
       "    </tr>\n",
       "  </tbody>\n",
       "</table>\n",
       "</div>"
      ],
      "text/plain": [
       "                   A         B         C         D\n",
       "2030-01-31  0.514343  0.287027 -0.685054 -0.397711\n",
       "2030-02-28 -0.731074 -0.307389 -0.459713  0.239637\n",
       "2030-03-31 -0.281103 -0.177057 -0.407565  0.458357"
      ]
     },
     "execution_count": 15,
     "metadata": {},
     "output_type": "execute_result"
    }
   ],
   "source": [
    "### using a slice for row\n",
    "df[0:3]"
   ]
  },
  {
   "cell_type": "markdown",
   "metadata": {},
   "source": [
    "The loc function is used to select columns by names. As usual, the\n",
    "values before the coma stand for the rows and after refer to the column.\n",
    "You need to use the brackets to select more than one column."
   ]
  },
  {
   "cell_type": "code",
   "execution_count": 16,
   "metadata": {},
   "outputs": [
    {
     "data": {
      "text/html": [
       "<div>\n",
       "<style scoped>\n",
       "    .dataframe tbody tr th:only-of-type {\n",
       "        vertical-align: middle;\n",
       "    }\n",
       "\n",
       "    .dataframe tbody tr th {\n",
       "        vertical-align: top;\n",
       "    }\n",
       "\n",
       "    .dataframe thead th {\n",
       "        text-align: right;\n",
       "    }\n",
       "</style>\n",
       "<table border=\"1\" class=\"dataframe\">\n",
       "  <thead>\n",
       "    <tr style=\"text-align: right;\">\n",
       "      <th></th>\n",
       "      <th>A</th>\n",
       "      <th>B</th>\n",
       "    </tr>\n",
       "  </thead>\n",
       "  <tbody>\n",
       "    <tr>\n",
       "      <th>2030-01-31</th>\n",
       "      <td>0.514343</td>\n",
       "      <td>0.287027</td>\n",
       "    </tr>\n",
       "    <tr>\n",
       "      <th>2030-02-28</th>\n",
       "      <td>-0.731074</td>\n",
       "      <td>-0.307389</td>\n",
       "    </tr>\n",
       "    <tr>\n",
       "      <th>2030-03-31</th>\n",
       "      <td>-0.281103</td>\n",
       "      <td>-0.177057</td>\n",
       "    </tr>\n",
       "    <tr>\n",
       "      <th>2030-04-30</th>\n",
       "      <td>-0.385395</td>\n",
       "      <td>-0.271028</td>\n",
       "    </tr>\n",
       "    <tr>\n",
       "      <th>2030-05-31</th>\n",
       "      <td>-0.579776</td>\n",
       "      <td>1.184640</td>\n",
       "    </tr>\n",
       "    <tr>\n",
       "      <th>2030-06-30</th>\n",
       "      <td>1.917823</td>\n",
       "      <td>-1.710837</td>\n",
       "    </tr>\n",
       "  </tbody>\n",
       "</table>\n",
       "</div>"
      ],
      "text/plain": [
       "                   A         B\n",
       "2030-01-31  0.514343  0.287027\n",
       "2030-02-28 -0.731074 -0.307389\n",
       "2030-03-31 -0.281103 -0.177057\n",
       "2030-04-30 -0.385395 -0.271028\n",
       "2030-05-31 -0.579776  1.184640\n",
       "2030-06-30  1.917823 -1.710837"
      ]
     },
     "execution_count": 16,
     "metadata": {},
     "output_type": "execute_result"
    }
   ],
   "source": [
    "## Multi col\n",
    "df.loc[:,['A','B']]"
   ]
  },
  {
   "cell_type": "markdown",
   "metadata": {},
   "source": [
    "There is another method to select multiple rows and columns in Pandas.\n",
    "You can use iloc[]. This method uses the index instead of the columns\n",
    "name. The code below returns the same data frame as above"
   ]
  },
  {
   "cell_type": "code",
   "execution_count": 17,
   "metadata": {},
   "outputs": [
    {
     "data": {
      "text/html": [
       "<div>\n",
       "<style scoped>\n",
       "    .dataframe tbody tr th:only-of-type {\n",
       "        vertical-align: middle;\n",
       "    }\n",
       "\n",
       "    .dataframe tbody tr th {\n",
       "        vertical-align: top;\n",
       "    }\n",
       "\n",
       "    .dataframe thead th {\n",
       "        text-align: right;\n",
       "    }\n",
       "</style>\n",
       "<table border=\"1\" class=\"dataframe\">\n",
       "  <thead>\n",
       "    <tr style=\"text-align: right;\">\n",
       "      <th></th>\n",
       "      <th>A</th>\n",
       "      <th>B</th>\n",
       "    </tr>\n",
       "  </thead>\n",
       "  <tbody>\n",
       "    <tr>\n",
       "      <th>2030-01-31</th>\n",
       "      <td>0.514343</td>\n",
       "      <td>0.287027</td>\n",
       "    </tr>\n",
       "    <tr>\n",
       "      <th>2030-02-28</th>\n",
       "      <td>-0.731074</td>\n",
       "      <td>-0.307389</td>\n",
       "    </tr>\n",
       "    <tr>\n",
       "      <th>2030-03-31</th>\n",
       "      <td>-0.281103</td>\n",
       "      <td>-0.177057</td>\n",
       "    </tr>\n",
       "    <tr>\n",
       "      <th>2030-04-30</th>\n",
       "      <td>-0.385395</td>\n",
       "      <td>-0.271028</td>\n",
       "    </tr>\n",
       "    <tr>\n",
       "      <th>2030-05-31</th>\n",
       "      <td>-0.579776</td>\n",
       "      <td>1.184640</td>\n",
       "    </tr>\n",
       "    <tr>\n",
       "      <th>2030-06-30</th>\n",
       "      <td>1.917823</td>\n",
       "      <td>-1.710837</td>\n",
       "    </tr>\n",
       "  </tbody>\n",
       "</table>\n",
       "</div>"
      ],
      "text/plain": [
       "                   A         B\n",
       "2030-01-31  0.514343  0.287027\n",
       "2030-02-28 -0.731074 -0.307389\n",
       "2030-03-31 -0.281103 -0.177057\n",
       "2030-04-30 -0.385395 -0.271028\n",
       "2030-05-31 -0.579776  1.184640\n",
       "2030-06-30  1.917823 -1.710837"
      ]
     },
     "execution_count": 17,
     "metadata": {},
     "output_type": "execute_result"
    }
   ],
   "source": [
    "df.iloc[:, :2]"
   ]
  },
  {
   "cell_type": "markdown",
   "metadata": {},
   "source": [
    "### Drop a column\n",
    "\n",
    "You can drop columns using `pd.drop()`"
   ]
  },
  {
   "cell_type": "code",
   "execution_count": 18,
   "metadata": {},
   "outputs": [
    {
     "data": {
      "text/html": [
       "<div>\n",
       "<style scoped>\n",
       "    .dataframe tbody tr th:only-of-type {\n",
       "        vertical-align: middle;\n",
       "    }\n",
       "\n",
       "    .dataframe tbody tr th {\n",
       "        vertical-align: top;\n",
       "    }\n",
       "\n",
       "    .dataframe thead th {\n",
       "        text-align: right;\n",
       "    }\n",
       "</style>\n",
       "<table border=\"1\" class=\"dataframe\">\n",
       "  <thead>\n",
       "    <tr style=\"text-align: right;\">\n",
       "      <th></th>\n",
       "      <th>B</th>\n",
       "      <th>D</th>\n",
       "    </tr>\n",
       "  </thead>\n",
       "  <tbody>\n",
       "    <tr>\n",
       "      <th>2030-01-31</th>\n",
       "      <td>0.287027</td>\n",
       "      <td>-0.397711</td>\n",
       "    </tr>\n",
       "    <tr>\n",
       "      <th>2030-02-28</th>\n",
       "      <td>-0.307389</td>\n",
       "      <td>0.239637</td>\n",
       "    </tr>\n",
       "    <tr>\n",
       "      <th>2030-03-31</th>\n",
       "      <td>-0.177057</td>\n",
       "      <td>0.458357</td>\n",
       "    </tr>\n",
       "    <tr>\n",
       "      <th>2030-04-30</th>\n",
       "      <td>-0.271028</td>\n",
       "      <td>-1.329216</td>\n",
       "    </tr>\n",
       "    <tr>\n",
       "      <th>2030-05-31</th>\n",
       "      <td>1.184640</td>\n",
       "      <td>-0.929881</td>\n",
       "    </tr>\n",
       "    <tr>\n",
       "      <th>2030-06-30</th>\n",
       "      <td>-1.710837</td>\n",
       "      <td>0.267631</td>\n",
       "    </tr>\n",
       "  </tbody>\n",
       "</table>\n",
       "</div>"
      ],
      "text/plain": [
       "                   B         D\n",
       "2030-01-31  0.287027 -0.397711\n",
       "2030-02-28 -0.307389  0.239637\n",
       "2030-03-31 -0.177057  0.458357\n",
       "2030-04-30 -0.271028 -1.329216\n",
       "2030-05-31  1.184640 -0.929881\n",
       "2030-06-30 -1.710837  0.267631"
      ]
     },
     "execution_count": 18,
     "metadata": {},
     "output_type": "execute_result"
    }
   ],
   "source": [
    "df.drop(columns=['A', 'C'])"
   ]
  },
  {
   "cell_type": "markdown",
   "metadata": {},
   "source": [
    "### Concatenation\n",
    "\n",
    "\n",
    "You can concatenate two DataFrame in Pandas. You can use pd.concat()\n",
    "\n",
    "First of all, you need to create two DataFrames. So far so good, you are\n",
    "already familiar with dataframe creation\n",
    "\n",
    "import numpy as np"
   ]
  },
  {
   "cell_type": "code",
   "execution_count": 19,
   "metadata": {},
   "outputs": [],
   "source": [
    "df1 = pd.DataFrame({'name': ['John', 'Smith','Paul'],\n",
    "                    'Age': ['25', '30', '50']},\n",
    "                   index=[0, 1, 2])"
   ]
  },
  {
   "cell_type": "code",
   "execution_count": 20,
   "metadata": {},
   "outputs": [],
   "source": [
    "df2 = pd.DataFrame({'name': ['Adam', 'Smith' ],\n",
    "                    'Age': ['26', '11']},\n",
    "                   index=[3, 4])"
   ]
  },
  {
   "cell_type": "markdown",
   "metadata": {},
   "source": [
    "Finally, you concatenate the two DataFrame"
   ]
  },
  {
   "cell_type": "code",
   "execution_count": 21,
   "metadata": {},
   "outputs": [
    {
     "data": {
      "text/html": [
       "<div>\n",
       "<style scoped>\n",
       "    .dataframe tbody tr th:only-of-type {\n",
       "        vertical-align: middle;\n",
       "    }\n",
       "\n",
       "    .dataframe tbody tr th {\n",
       "        vertical-align: top;\n",
       "    }\n",
       "\n",
       "    .dataframe thead th {\n",
       "        text-align: right;\n",
       "    }\n",
       "</style>\n",
       "<table border=\"1\" class=\"dataframe\">\n",
       "  <thead>\n",
       "    <tr style=\"text-align: right;\">\n",
       "      <th></th>\n",
       "      <th>name</th>\n",
       "      <th>Age</th>\n",
       "    </tr>\n",
       "  </thead>\n",
       "  <tbody>\n",
       "    <tr>\n",
       "      <th>0</th>\n",
       "      <td>John</td>\n",
       "      <td>25</td>\n",
       "    </tr>\n",
       "    <tr>\n",
       "      <th>1</th>\n",
       "      <td>Smith</td>\n",
       "      <td>30</td>\n",
       "    </tr>\n",
       "    <tr>\n",
       "      <th>2</th>\n",
       "      <td>Paul</td>\n",
       "      <td>50</td>\n",
       "    </tr>\n",
       "    <tr>\n",
       "      <th>3</th>\n",
       "      <td>Adam</td>\n",
       "      <td>26</td>\n",
       "    </tr>\n",
       "    <tr>\n",
       "      <th>4</th>\n",
       "      <td>Smith</td>\n",
       "      <td>11</td>\n",
       "    </tr>\n",
       "  </tbody>\n",
       "</table>\n",
       "</div>"
      ],
      "text/plain": [
       "    name Age\n",
       "0   John  25\n",
       "1  Smith  30\n",
       "2   Paul  50\n",
       "3   Adam  26\n",
       "4  Smith  11"
      ]
     },
     "execution_count": 21,
     "metadata": {},
     "output_type": "execute_result"
    }
   ],
   "source": [
    "df_concat = pd.concat([df1,df2])\n",
    "df_concat"
   ]
  },
  {
   "cell_type": "markdown",
   "metadata": {},
   "source": [
    "### Drop_duplicates\n",
    "If a dataset can contain duplicates information use, `drop_duplicates` is an easy to exclude duplicate rows. You can see that `df_concat` has a duplicate observation, Smith appears twice in the column name."
   ]
  },
  {
   "cell_type": "code",
   "execution_count": 22,
   "metadata": {},
   "outputs": [
    {
     "data": {
      "text/html": [
       "<div>\n",
       "<style scoped>\n",
       "    .dataframe tbody tr th:only-of-type {\n",
       "        vertical-align: middle;\n",
       "    }\n",
       "\n",
       "    .dataframe tbody tr th {\n",
       "        vertical-align: top;\n",
       "    }\n",
       "\n",
       "    .dataframe thead th {\n",
       "        text-align: right;\n",
       "    }\n",
       "</style>\n",
       "<table border=\"1\" class=\"dataframe\">\n",
       "  <thead>\n",
       "    <tr style=\"text-align: right;\">\n",
       "      <th></th>\n",
       "      <th>name</th>\n",
       "      <th>Age</th>\n",
       "    </tr>\n",
       "  </thead>\n",
       "  <tbody>\n",
       "    <tr>\n",
       "      <th>0</th>\n",
       "      <td>John</td>\n",
       "      <td>25</td>\n",
       "    </tr>\n",
       "    <tr>\n",
       "      <th>1</th>\n",
       "      <td>Smith</td>\n",
       "      <td>30</td>\n",
       "    </tr>\n",
       "    <tr>\n",
       "      <th>2</th>\n",
       "      <td>Paul</td>\n",
       "      <td>50</td>\n",
       "    </tr>\n",
       "    <tr>\n",
       "      <th>3</th>\n",
       "      <td>Adam</td>\n",
       "      <td>26</td>\n",
       "    </tr>\n",
       "  </tbody>\n",
       "</table>\n",
       "</div>"
      ],
      "text/plain": [
       "    name Age\n",
       "0   John  25\n",
       "1  Smith  30\n",
       "2   Paul  50\n",
       "3   Adam  26"
      ]
     },
     "execution_count": 22,
     "metadata": {},
     "output_type": "execute_result"
    }
   ],
   "source": [
    "df_concat.drop_duplicates('name')"
   ]
  },
  {
   "cell_type": "markdown",
   "metadata": {},
   "source": [
    "### Sort values\n",
    "You can sort value with `sort_values`"
   ]
  },
  {
   "cell_type": "code",
   "execution_count": 23,
   "metadata": {},
   "outputs": [
    {
     "data": {
      "text/html": [
       "<div>\n",
       "<style scoped>\n",
       "    .dataframe tbody tr th:only-of-type {\n",
       "        vertical-align: middle;\n",
       "    }\n",
       "\n",
       "    .dataframe tbody tr th {\n",
       "        vertical-align: top;\n",
       "    }\n",
       "\n",
       "    .dataframe thead th {\n",
       "        text-align: right;\n",
       "    }\n",
       "</style>\n",
       "<table border=\"1\" class=\"dataframe\">\n",
       "  <thead>\n",
       "    <tr style=\"text-align: right;\">\n",
       "      <th></th>\n",
       "      <th>name</th>\n",
       "      <th>Age</th>\n",
       "    </tr>\n",
       "  </thead>\n",
       "  <tbody>\n",
       "    <tr>\n",
       "      <th>4</th>\n",
       "      <td>Smith</td>\n",
       "      <td>11</td>\n",
       "    </tr>\n",
       "    <tr>\n",
       "      <th>0</th>\n",
       "      <td>John</td>\n",
       "      <td>25</td>\n",
       "    </tr>\n",
       "    <tr>\n",
       "      <th>3</th>\n",
       "      <td>Adam</td>\n",
       "      <td>26</td>\n",
       "    </tr>\n",
       "    <tr>\n",
       "      <th>1</th>\n",
       "      <td>Smith</td>\n",
       "      <td>30</td>\n",
       "    </tr>\n",
       "    <tr>\n",
       "      <th>2</th>\n",
       "      <td>Paul</td>\n",
       "      <td>50</td>\n",
       "    </tr>\n",
       "  </tbody>\n",
       "</table>\n",
       "</div>"
      ],
      "text/plain": [
       "    name Age\n",
       "4  Smith  11\n",
       "0   John  25\n",
       "3   Adam  26\n",
       "1  Smith  30\n",
       "2   Paul  50"
      ]
     },
     "execution_count": 23,
     "metadata": {},
     "output_type": "execute_result"
    }
   ],
   "source": [
    "df_concat.sort_values('Age')"
   ]
  },
  {
   "cell_type": "markdown",
   "metadata": {},
   "source": [
    "### Rename: change of index\n",
    "\n",
    "You can use `rename` to rename a column in Pandas. The first value is the\n",
    "current column name and the second value is the new column name."
   ]
  },
  {
   "cell_type": "code",
   "execution_count": 24,
   "metadata": {},
   "outputs": [
    {
     "data": {
      "text/html": [
       "<div>\n",
       "<style scoped>\n",
       "    .dataframe tbody tr th:only-of-type {\n",
       "        vertical-align: middle;\n",
       "    }\n",
       "\n",
       "    .dataframe tbody tr th {\n",
       "        vertical-align: top;\n",
       "    }\n",
       "\n",
       "    .dataframe thead th {\n",
       "        text-align: right;\n",
       "    }\n",
       "</style>\n",
       "<table border=\"1\" class=\"dataframe\">\n",
       "  <thead>\n",
       "    <tr style=\"text-align: right;\">\n",
       "      <th></th>\n",
       "      <th>Surname</th>\n",
       "      <th>Age_ppl</th>\n",
       "    </tr>\n",
       "  </thead>\n",
       "  <tbody>\n",
       "    <tr>\n",
       "      <th>0</th>\n",
       "      <td>John</td>\n",
       "      <td>25</td>\n",
       "    </tr>\n",
       "    <tr>\n",
       "      <th>1</th>\n",
       "      <td>Smith</td>\n",
       "      <td>30</td>\n",
       "    </tr>\n",
       "    <tr>\n",
       "      <th>2</th>\n",
       "      <td>Paul</td>\n",
       "      <td>50</td>\n",
       "    </tr>\n",
       "    <tr>\n",
       "      <th>3</th>\n",
       "      <td>Adam</td>\n",
       "      <td>26</td>\n",
       "    </tr>\n",
       "    <tr>\n",
       "      <th>4</th>\n",
       "      <td>Smith</td>\n",
       "      <td>11</td>\n",
       "    </tr>\n",
       "  </tbody>\n",
       "</table>\n",
       "</div>"
      ],
      "text/plain": [
       "  Surname Age_ppl\n",
       "0    John      25\n",
       "1   Smith      30\n",
       "2    Paul      50\n",
       "3    Adam      26\n",
       "4   Smith      11"
      ]
     },
     "execution_count": 24,
     "metadata": {},
     "output_type": "execute_result"
    }
   ],
   "source": [
    "df_concat.rename(columns={\"name\": \"Surname\", \"Age\": \"Age_ppl\"})"
   ]
  },
  {
   "cell_type": "markdown",
   "metadata": {},
   "source": [
    "### Import CSV\n",
    "\n",
    "During the TensorFlow tutorial, you will use the adult dataset. It is\n",
    "often used with classification task. It is available in this URL\n",
    "https://archive.ics.uci.edu/ml/machine-learning-databases/adult/adult.data\n",
    "The data is stored in a CSV format. This dataset includes eights\n",
    "categorical variables:\n",
    "\n",
    "This dataset includes eights categorical variables:\n",
    "\n",
    "-   workclass\n",
    "\n",
    "-   education\n",
    "\n",
    "-   marital\n",
    "\n",
    "-   occupation\n",
    "\n",
    "-   relationship\n",
    "\n",
    "-   race\n",
    "\n",
    "-   sex\n",
    "\n",
    "-   native_country\n",
    "\n",
    "moreover, six continuous variables:\n",
    "\n",
    "-   age\n",
    "\n",
    "-   fnlwgt\n",
    "\n",
    "-   education_num\n",
    "\n",
    "-   capital_gain\n",
    "\n",
    "-   capital_loss\n",
    "\n",
    "hours_week\n",
    "\n",
    "To import a CSV dataset, you can use the object pd.read_csv(). The\n",
    "basic argument inside is:\n",
    "\n",
    "-   `filepath_or_buffer`: Path or URL with the data\n",
    "\n",
    "-   `sep=', '`: Define the delimiter to use\n",
    "\n",
    "-   `names=None`: Name the columns. If the dataset has ten columns,\n",
    "    you need to pass ten names\n",
    "\n",
    "-   `index_col=None`: If yes, the first column is used as a row index\n",
    "\n",
    "-   `skipinitialspace=False`: Skip spaces after delimiter.\n",
    "\n",
    "For more information about read*csv(),* please check the official\n",
    "[documentation](https://pandas.pydata.org/pandas-docs/stable/generated/pandas.read_csv.html)"
   ]
  },
  {
   "cell_type": "code",
   "execution_count": 25,
   "metadata": {},
   "outputs": [
    {
     "data": {
      "text/plain": [
       "(32561, 15)"
      ]
     },
     "execution_count": 25,
     "metadata": {},
     "output_type": "execute_result"
    }
   ],
   "source": [
    "## Import csv\n",
    "import pandas as pd\n",
    "## Define path data\n",
    "COLUMNS = ['age','workclass', 'fnlwgt', 'education', 'education_num', 'marital',\n",
    "               'occupation', 'relationship', 'race', 'sex', 'capital_gain', 'capital_loss',\n",
    "               'hours_week', 'native_country', 'label']\n",
    "PATH = \"https://archive.ics.uci.edu/ml/machine-learning-databases/adult/adult.data\"\n",
    "df_train = pd.read_csv(PATH,\n",
    "                           skipinitialspace=True,\n",
    "                           names = COLUMNS,\n",
    "                           index_col=False)\n",
    "\n",
    "df_train.shape"
   ]
  },
  {
   "cell_type": "markdown",
   "metadata": {},
   "source": [
    "### Groupby\n",
    "\n",
    "An easy way to see the data is to use the `groupby` method. This method\n",
    "can help you to summarize the data by group. Below is a list of methods\n",
    "available with `groupby`:\n",
    "\n",
    "-   count: `count`\n",
    "\n",
    "-   min: `min`\n",
    "\n",
    "-   max: `max`\n",
    "\n",
    "-   mean: `mean`\n",
    "\n",
    "-   median: `median`\n",
    "\n",
    "-   standard deviation: `sdt`\n",
    "\n",
    "-   etc\n",
    "\n",
    "Inside\n",
    "`groupby(), you can use the column you want to apply the method.\n",
    "\n",
    "Let's have a look at a single grouping with the adult dataset. You will\n",
    "get the `mean` of all the continuous variables by type of revenue, i.e.,\n",
    "above 50k or below 50k"
   ]
  },
  {
   "cell_type": "code",
   "execution_count": 26,
   "metadata": {},
   "outputs": [
    {
     "data": {
      "text/html": [
       "<div>\n",
       "<style scoped>\n",
       "    .dataframe tbody tr th:only-of-type {\n",
       "        vertical-align: middle;\n",
       "    }\n",
       "\n",
       "    .dataframe tbody tr th {\n",
       "        vertical-align: top;\n",
       "    }\n",
       "\n",
       "    .dataframe thead th {\n",
       "        text-align: right;\n",
       "    }\n",
       "</style>\n",
       "<table border=\"1\" class=\"dataframe\">\n",
       "  <thead>\n",
       "    <tr style=\"text-align: right;\">\n",
       "      <th></th>\n",
       "      <th>age</th>\n",
       "      <th>fnlwgt</th>\n",
       "      <th>education_num</th>\n",
       "      <th>capital_gain</th>\n",
       "      <th>capital_loss</th>\n",
       "      <th>hours_week</th>\n",
       "    </tr>\n",
       "    <tr>\n",
       "      <th>label</th>\n",
       "      <th></th>\n",
       "      <th></th>\n",
       "      <th></th>\n",
       "      <th></th>\n",
       "      <th></th>\n",
       "      <th></th>\n",
       "    </tr>\n",
       "  </thead>\n",
       "  <tbody>\n",
       "    <tr>\n",
       "      <th>&lt;=50K</th>\n",
       "      <td>36.783738</td>\n",
       "      <td>190340.86517</td>\n",
       "      <td>9.595065</td>\n",
       "      <td>148.752468</td>\n",
       "      <td>53.142921</td>\n",
       "      <td>38.840210</td>\n",
       "    </tr>\n",
       "    <tr>\n",
       "      <th>&gt;50K</th>\n",
       "      <td>44.249841</td>\n",
       "      <td>188005.00000</td>\n",
       "      <td>11.611657</td>\n",
       "      <td>4006.142456</td>\n",
       "      <td>195.001530</td>\n",
       "      <td>45.473026</td>\n",
       "    </tr>\n",
       "  </tbody>\n",
       "</table>\n",
       "</div>"
      ],
      "text/plain": [
       "             age        fnlwgt  education_num  capital_gain  capital_loss  \\\n",
       "label                                                                       \n",
       "<=50K  36.783738  190340.86517       9.595065    148.752468     53.142921   \n",
       ">50K   44.249841  188005.00000      11.611657   4006.142456    195.001530   \n",
       "\n",
       "       hours_week  \n",
       "label              \n",
       "<=50K   38.840210  \n",
       ">50K    45.473026  "
      ]
     },
     "execution_count": 26,
     "metadata": {},
     "output_type": "execute_result"
    }
   ],
   "source": [
    "df_train.groupby(['label']).mean()"
   ]
  },
  {
   "cell_type": "markdown",
   "metadata": {},
   "source": [
    "You can get the minimum of age by type of household"
   ]
  },
  {
   "cell_type": "code",
   "execution_count": 27,
   "metadata": {},
   "outputs": [
    {
     "data": {
      "text/plain": [
       "label\n",
       "<=50K    17\n",
       ">50K     19\n",
       "Name: age, dtype: int64"
      ]
     },
     "execution_count": 27,
     "metadata": {},
     "output_type": "execute_result"
    }
   ],
   "source": [
    "df_train.groupby(['label'])['age'].min()"
   ]
  },
  {
   "cell_type": "markdown",
   "metadata": {},
   "source": [
    "You can also group by multiple columns. For instance, you can get the\n",
    "maximum capital gain according to the household type and marital status."
   ]
  },
  {
   "cell_type": "code",
   "execution_count": 28,
   "metadata": {},
   "outputs": [
    {
     "data": {
      "text/plain": [
       "label  marital              \n",
       "<=50K  Divorced                 34095\n",
       "       Married-AF-spouse         2653\n",
       "       Married-civ-spouse       41310\n",
       "       Married-spouse-absent     6849\n",
       "       Never-married            34095\n",
       "       Separated                 7443\n",
       "       Widowed                   6849\n",
       ">50K   Divorced                 99999\n",
       "       Married-AF-spouse         7298\n",
       "       Married-civ-spouse       99999\n",
       "       Married-spouse-absent    99999\n",
       "       Never-married            99999\n",
       "       Separated                99999\n",
       "       Widowed                  99999\n",
       "Name: capital_gain, dtype: int64"
      ]
     },
     "execution_count": 28,
     "metadata": {},
     "output_type": "execute_result"
    }
   ],
   "source": [
    "df_train.groupby(['label', 'marital'])['capital_gain'].max()"
   ]
  },
  {
   "cell_type": "markdown",
   "metadata": {},
   "source": [
    "You can create a plot following groupby. One way to do it is to use a\n",
    "plot after the grouping.\n",
    "\n",
    "To create a more excellent plot, you will use unstack() after mean() so\n",
    "that you have the same multilevel index, or you join the values by\n",
    "revenue lower than 50k and above 50k. In this case, the plot will have\n",
    "two groups instead of 14 (2*7).\n",
    "\n",
    "If you use Jupyter Notebook, make sure to add % matplotlib inline,\n",
    "otherwise, no plot will be displayed"
   ]
  },
  {
   "cell_type": "code",
   "execution_count": 29,
   "metadata": {},
   "outputs": [
    {
     "data": {
      "text/html": [
       "<div>\n",
       "<style scoped>\n",
       "    .dataframe tbody tr th:only-of-type {\n",
       "        vertical-align: middle;\n",
       "    }\n",
       "\n",
       "    .dataframe tbody tr th {\n",
       "        vertical-align: top;\n",
       "    }\n",
       "\n",
       "    .dataframe thead th {\n",
       "        text-align: right;\n",
       "    }\n",
       "</style>\n",
       "<table border=\"1\" class=\"dataframe\">\n",
       "  <thead>\n",
       "    <tr style=\"text-align: right;\">\n",
       "      <th>marital</th>\n",
       "      <th>Divorced</th>\n",
       "      <th>Married-AF-spouse</th>\n",
       "      <th>Married-civ-spouse</th>\n",
       "      <th>Married-spouse-absent</th>\n",
       "      <th>Never-married</th>\n",
       "      <th>Separated</th>\n",
       "      <th>Widowed</th>\n",
       "    </tr>\n",
       "    <tr>\n",
       "      <th>label</th>\n",
       "      <th></th>\n",
       "      <th></th>\n",
       "      <th></th>\n",
       "      <th></th>\n",
       "      <th></th>\n",
       "      <th></th>\n",
       "      <th></th>\n",
       "    </tr>\n",
       "  </thead>\n",
       "  <tbody>\n",
       "    <tr>\n",
       "      <th>&lt;=50K</th>\n",
       "      <td>140.544724</td>\n",
       "      <td>204.076923</td>\n",
       "      <td>219.249517</td>\n",
       "      <td>106.559896</td>\n",
       "      <td>99.052492</td>\n",
       "      <td>117.190824</td>\n",
       "      <td>149.811674</td>\n",
       "    </tr>\n",
       "    <tr>\n",
       "      <th>&gt;50K</th>\n",
       "      <td>5781.812095</td>\n",
       "      <td>729.800000</td>\n",
       "      <td>3678.163927</td>\n",
       "      <td>6836.647059</td>\n",
       "      <td>6137.576375</td>\n",
       "      <td>6614.727273</td>\n",
       "      <td>5071.117647</td>\n",
       "    </tr>\n",
       "  </tbody>\n",
       "</table>\n",
       "</div>"
      ],
      "text/plain": [
       "marital     Divorced  Married-AF-spouse  Married-civ-spouse  \\\n",
       "label                                                         \n",
       "<=50K     140.544724         204.076923          219.249517   \n",
       ">50K     5781.812095         729.800000         3678.163927   \n",
       "\n",
       "marital  Married-spouse-absent  Never-married    Separated      Widowed  \n",
       "label                                                                    \n",
       "<=50K               106.559896      99.052492   117.190824   149.811674  \n",
       ">50K               6836.647059    6137.576375  6614.727273  5071.117647  "
      ]
     },
     "execution_count": 29,
     "metadata": {},
     "output_type": "execute_result"
    }
   ],
   "source": [
    "% matplotlib inline\n",
    "\n",
    "df_plot = df_train.groupby(['label',\n",
    "'marital'])['capital_gain'].mean().unstack()\n",
    "\n",
    "df_plot"
   ]
  },
  {
   "cell_type": "markdown",
   "metadata": {},
   "source": [
    "![](https://github.com/thomaspernet/Tensorflow/blob/master/tensorflow/13_pandas_v6_files/image002.png)\n",
    "\n",
    "\n",
    "## Summary\n",
    "\n",
    "\n",
    "Below is a summary of the most useful method for data science with\n",
    "Pandas\n",
    "\n",
    "| import data       | read_csv               |\n",
    "|-------------------|------------------------|\n",
    "| create series     | Series                 |\n",
    "| Create Dataframe  | DataFrame              |\n",
    "| Create date range | date_range             |\n",
    "| return head       | head                   |\n",
    "| return tail       | tail                   |\n",
    "| Describe          | describe               |\n",
    "| slice using name  | dataname['columnname'] |\n",
    "| Slice using rows  | data_name[0:5]         |"
   ]
  }
 ],
 "metadata": {
  "kernelspec": {
   "display_name": "Python 3",
   "language": "python",
   "name": "python3"
  },
  "language_info": {
   "codemirror_mode": {
    "name": "ipython",
    "version": 3
   },
   "file_extension": ".py",
   "mimetype": "text/x-python",
   "name": "python",
   "nbconvert_exporter": "python",
   "pygments_lexer": "ipython3",
   "version": "3.6.6"
  }
 },
 "nbformat": 4,
 "nbformat_minor": 2
}
