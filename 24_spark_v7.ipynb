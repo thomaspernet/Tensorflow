{
 "cells": [
  {
   "cell_type": "markdown",
   "metadata": {},
   "source": [
    "# Apache Spark: Pyspark, **MLlib,** Machine learning  \n",
    "\n",
    "## What is Apache Spark?\n",
    "\n",
    "\n",
    "Spark is a big data solution that has been proven\n",
    "to be easier and faster than Hadoop MapReduce. Spark is an open source\n",
    "software developed by UC Berkeley RAD lab in 2009. Since it was released\n",
    "to the public in 2010, Spark has grown in popularity and is used through\n",
    "the industry with an unprecedented scale.\n",
    "\n",
    "In the era of big data, practitioners need more\n",
    "than ever fast and reliable tools to process streaming of data. Earlier\n",
    "tools like MapReduce were favorite but were slow. To overcome this\n",
    "issue, Spark offers a solution that is both fast and general-purpose.\n",
    "The main difference between Spark and MapReduce is that Spark runs\n",
    "computations in memory during the later on the hard disk. It allows\n",
    "high-speed access and data processing, reducing times from hours to\n",
    "minutes.\n",
    "\n",
    "## How Does Spark work?\n",
    "\n",
    "\n",
    "Spark is based on computational engine, meaning it takes care of the\n",
    "scheduling, distributing and monitoring application. Each task is done\n",
    "across various worker machines called computing cluster. A computing\n",
    "cluster refers to the division of tasks. One machine performs one task,\n",
    "while the others contribute to the final output through a different\n",
    "task. In the end, all the tasks are aggregated to produce an output. The\n",
    "Spark admin gives a 360 overview of various Spark Jobs.\n",
    "\n",
    "![](https://github.com/thomaspernet/Tensorflow/blob/master/tensorflow/24_spark_v7_files/image001.png)\n",
    "\n",
    "Spark is designed to work with\n",
    "\n",
    "-   Python\n",
    "\n",
    "-   Java\n",
    "\n",
    "-   Scala\n",
    "\n",
    "-   SQL\n",
    "\n",
    "**A significant feature of Spark is the vast amount of built-in library,\n",
    "including MLlib for machine learning**. Spark is also designed to work\n",
    "with Hadoop clusters and can read the broad type of files, including\n",
    "Hive data, CSV, JSON, Casandra data among other.\n",
    "\n",
    "#### Why use Spark?\n",
    "\n",
    "As a future data practitioner, you should be\n",
    "familiar with python’s famous libraries: Pandas and scikit-learn. These\n",
    "two libraries are fantastic to explore dataset up to mid-size. Regular\n",
    "machine learning projects are built around the following methodology:\n",
    "\n",
    "- Load the data to the disk\n",
    "\n",
    "- Import the data into the machine’s memory\n",
    "\n",
    "- Process/analyze the data\n",
    "\n",
    "- Build the machine learning model\n",
    "\n",
    "- Store the prediction back to disk\n",
    "\n",
    "The problem arises if the data scientist wants to process data that's\n",
    "too big for one computer. At the early age of data science, the\n",
    "practitioners would rely heavily on statistical tools, like sampling to\n",
    "make the analysis. The data scientist would find a good statistical\n",
    "sample, perform an additional robustness check and comes up with an\n",
    "excellent model.\n",
    "\n",
    "However, there are some problems with this:\n",
    "\n",
    "- Is the dataset reflecting the real world?\n",
    "\n",
    "- Does the data include a specific example?\n",
    "\n",
    "- Is the model fit for sampling?\n",
    "\n",
    "Take users recommendation for instance. Recommenders rely on comparing\n",
    "users with other users in evaluating their preferences. If the data\n",
    "practitioner takes only a subset of the data, there won't be a cohort of\n",
    "users who are very similar to one another. Recommenders need to run on\n",
    "the full dataset or not at all.\n",
    "\n",
    "**What is the answer?**\n",
    "\n",
    "The answer has been evident for a long time, split the problem up onto\n",
    "multiple computers. Parallel computing comes with multiple problems as\n",
    "well. If it is possible to partition the work, developers often have\n",
    "trouble writing parallel code and end up having to solve a bunch of the\n",
    "complex issues around multi-processing themselves.\n",
    "\n",
    "Pyspark gives the data scientist an API that can be used to solve the\n",
    "data problems in parallel. Pyspark handles the complexities of\n",
    "multiprocessing, such as distributing the data, distributing code and\n",
    "collecting output from the workers on a cluster of machines.\n",
    "\n",
    "Spark can run standalone but most often runs on top of a cluster\n",
    "computing framework such as Hadoop. In test and development, however, a\n",
    "data scientist can efficiently run Spark on their development boxes or\n",
    "laptops without a cluster\n",
    "\n",
    "- One of the main advantages of Spark is to build an architecture that\n",
    "encompasses data streaming management, seamlessly data queries, machine\n",
    "learning prediction and real-time access to various analysis.\n",
    "\n",
    "- Spark works closely with SQL language, i.e., structured data. It\n",
    "allows querying the data in real time.\n",
    "\n",
    "- Data scientist main's job is to analyze and build predictive models.\n",
    "In short, a data scientist needs to know how to query data using SQL,\n",
    "produce a statistical report and make use of machine learning to produce\n",
    "predictions. Data scientist spends a significant amount of their time on\n",
    "cleaning, transforming and analyzing the data. Once the dataset or data\n",
    "workflow is ready, the data scientist uses various techniques to\n",
    "discover insights and hidden patterns. The data manipulation should be\n",
    "robust and the same easy to use. Spark is the right tool thanks to its\n",
    "speed and rich APIs.\n",
    "\n",
    "**Pyspark**\n",
    "\n",
    "Spark is the name of the engine to realize cluster computing while\n",
    "PySpark is the Python’s library to use Spark.\n",
    "\n",
    "In this tutorial, you will learn how to build a classifier with Pyspark.\n",
    "\n",
    "## Launch Pyspark with AWS\n",
    "\n",
    "\n",
    "The Jupyter team build a Docker image to run Spark efficiently. You can\n",
    "follow this step to launch Spark instance in AWS.\n",
    "\n",
    "Refer our tutorial on [AWS and\n",
    "TensorFlow]\n",
    "\n",
    "**Step 1**: Create an Instance\n",
    "\n",
    "First of all, you need to create an instance. Go to your AWS account and\n",
    "launch the instance. You can increase the storage up to 15g and use the\n",
    "same security group as in TensorFlow tutorial.\n",
    "\n",
    "**Step 2**: Open the connection\n",
    "\n",
    "Open the connection and install docker container. For more details,\n",
    "refers to the tutorial with *TensorFlow with Docker*. Note that, you\n",
    "need to be in the correct working directory.\n",
    "\n",
    "Simply run these codes to install Docker:"
   ]
  },
  {
   "cell_type": "markdown",
   "metadata": {},
   "source": [
    "```\n",
    "sudo yum update -y\n",
    "sudo yum install -y docker\n",
    "sudo service docker start\n",
    "sudo usermod -a -G docker ec2-user\n",
    "exit\n",
    "```"
   ]
  },
  {
   "cell_type": "markdown",
   "metadata": {},
   "source": [
    "**Step 3**: Reopen the connection and install Spark\n",
    "\n",
    "After you reopen the connection, you can install the image containing\n",
    "Pyspark."
   ]
  },
  {
   "cell_type": "markdown",
   "metadata": {},
   "source": [
    "```\n",
    "## Spark\n",
    "docker run -v ~/work:/home/jovyan/work -d -p 8888:8888 jupyter/pyspark-notebook\n",
    "\n",
    "## Allow preserving Jupyter notebook\n",
    "sudo chown 1000 ~/work\n",
    "\n",
    "## Install tree to see our working directory next\n",
    "sudo yum install -y tree\n",
    "```"
   ]
  },
  {
   "cell_type": "markdown",
   "metadata": {},
   "source": [
    "**Step 4**: Open Jupyter\n",
    "\n",
    "Check the container and its name"
   ]
  },
  {
   "cell_type": "markdown",
   "metadata": {},
   "source": [
    "```\n",
    "docker ps\n",
    "```"
   ]
  },
  {
   "cell_type": "markdown",
   "metadata": {},
   "source": [
    "Launch the docker with `docker logs` followed by the name of the docker.\n",
    "For instance, `docker logs zealous_goldwasser`\n",
    "\n",
    "Go to your browser and launch Jupyter. The address is\n",
    "http://localhost:8888/. Paste the password given by the terminal.\n",
    "\n",
    "**Note**: if you want to upload/download a file to your AWS machine, you\n",
    "can use the software Cyberduck, https://cyberduck.io/.\n",
    "\n",
    "## Install Pyspark on Mac/Windows with Conda\n",
    "\n",
    "\n",
    "To install Spark on your local machine, a recommended practice is to\n",
    "create a new conda environment. This new environment will install Python\n",
    "3.6, Spark and all the dependencies.\n",
    "\n",
    "**Mac User**"
   ]
  },
  {
   "cell_type": "markdown",
   "metadata": {},
   "source": [
    "```\n",
    "cd anaconda3\n",
    "touch hello-spark.yml\n",
    "vi hello-spark.yml\n",
    "```"
   ]
  },
  {
   "cell_type": "markdown",
   "metadata": {},
   "source": [
    "**Windows User**"
   ]
  },
  {
   "cell_type": "markdown",
   "metadata": {},
   "source": [
    "```\n",
    "cd C:\\Users\\Admin\\Anaconda3\n",
    "echo.>hello-spark.yml\n",
    "notepad hello-spark.yml\n",
    "```"
   ]
  },
  {
   "cell_type": "markdown",
   "metadata": {},
   "source": [
    "You can edit the .yml file. Be cautious with the indent. Two spaces are\n",
    "required before -"
   ]
  },
  {
   "cell_type": "markdown",
   "metadata": {},
   "source": [
    "```\n",
    "name: hello-spark \n",
    "dependencies:\n",
    "\n",
    "- python=3.6\n",
    "- jupyter\n",
    "- ipython\n",
    "- numpy\n",
    "- numpy-base\n",
    "- pandas\n",
    "- py4j\n",
    "- pyspark\n",
    "- pytz\n",
    "```"
   ]
  },
  {
   "cell_type": "markdown",
   "metadata": {},
   "source": [
    "Save it and create the environment. It takes some time"
   ]
  },
  {
   "cell_type": "markdown",
   "metadata": {},
   "source": [
    "```\n",
    "conda env create -f hello-spark.yml\n",
    "```"
   ]
  },
  {
   "cell_type": "markdown",
   "metadata": {},
   "source": [
    "For more details about the location, please check the tutorial Install\n",
    "TensorFlow\n",
    "\n",
    "You can check all the environment installed in your machine"
   ]
  },
  {
   "cell_type": "markdown",
   "metadata": {},
   "source": [
    "```\n",
    "conda env list\n",
    "```"
   ]
  },
  {
   "cell_type": "markdown",
   "metadata": {},
   "source": [
    "You can activate the environment now\n",
    "\n",
    "**Mac User**"
   ]
  },
  {
   "cell_type": "markdown",
   "metadata": {},
   "source": [
    "```\n",
    "source activate hello-spark\n",
    "```"
   ]
  },
  {
   "cell_type": "markdown",
   "metadata": {},
   "source": [
    "**Windows User**"
   ]
  },
  {
   "cell_type": "markdown",
   "metadata": {},
   "source": [
    "```\n",
    "activate hello-spark\n",
    "```"
   ]
  },
  {
   "cell_type": "markdown",
   "metadata": {},
   "source": [
    "**Note:** You have already created a specific TensorFlow environment to\n",
    "run the tutorials on TensorFlow. It is more convenient to create a new\n",
    "environment different from hello-tf. It makes no sense to overload\n",
    "hello-tf with Spark or any other machine learning libraries.\n",
    "\n",
    "Imagine most of your project involves TensorFlow, but you need to use\n",
    "Spark for one particular project. You can set a TensorFlow environment\n",
    "for all your project and create a separate environment for Spark. You\n",
    "can add as many libraries in Spark environment as you want without\n",
    "interfering with the TensorFlow environment. Once you are done with the\n",
    "Spark's project, you can erase it without affecting the TensorFlow\n",
    "environment.\n",
    "\n",
    "### Jupyter \n",
    "\n",
    "Open Jupyter Notebook and try if PySpark works. In a new notebook paste\n",
    "the following code:"
   ]
  },
  {
   "cell_type": "code",
   "execution_count": 1,
   "metadata": {},
   "outputs": [],
   "source": [
    "import pyspark\n",
    "from pyspark import SparkContext"
   ]
  },
  {
   "cell_type": "markdown",
   "metadata": {},
   "source": [
    "If an error is shown, it is likely that Java is not installed on your\n",
    "machine. In mac, open the terminal and write `java -version`, if there\n",
    "is a java version, make sure it is `1.8`. In Windows, go to Application\n",
    "and check if there is a Java folder. If there is a Java folder, check\n",
    "that Java `1.8` is installed. **As of this writing, PySpark is not\n",
    "compatible with Java9 and above.**\n",
    "\n",
    "If you need to install Java, you to think\n",
    "[link](http://www.oracle.com/technetwork/java/javase/downloads/jdk8-downloads-2133151.html)\n",
    "and download `jdk-8u181-windows-x64.exe`\n",
    "\n",
    "![](https://github.com/thomaspernet/Tensorflow/blob/master/tensorflow/24_spark_v7_files/image002.png)\n",
    "\n",
    "For Mac User, it is recommended to use \\`brew.\\`"
   ]
  },
  {
   "cell_type": "markdown",
   "metadata": {},
   "source": [
    "```\n",
    "brew tap caskroom/versions\n",
    "brew cask install java8\n",
    "\n",
    "Refer this step by step tutorial on how to install Java\n",
    "```"
   ]
  },
  {
   "cell_type": "markdown",
   "metadata": {},
   "source": [
    "**Note**: Use remove to erase an environment completely."
   ]
  },
  {
   "cell_type": "markdown",
   "metadata": {},
   "source": [
    "```\n",
    "conda env remove -n hello-spark -y\n",
    "```"
   ]
  },
  {
   "cell_type": "markdown",
   "metadata": {},
   "source": [
    "## Spark Context\n",
    "\n",
    "\n",
    "`SparkContext` is the internal engine that allows the connections with\n",
    "the clusters. If you want to run an operation, you need a\n",
    "`SparkContext`.\n",
    "\n",
    "**Create a SparkContext**\n",
    "\n",
    "First of all, you need to initiate a `SparkContext`."
   ]
  },
  {
   "cell_type": "code",
   "execution_count": 2,
   "metadata": {},
   "outputs": [],
   "source": [
    "import pyspark\n",
    "from pyspark import SparkContext\n",
    "sc =SparkContext()"
   ]
  },
  {
   "cell_type": "markdown",
   "metadata": {},
   "source": [
    "Now that the `SparkContext` is ready, you can create a collection of\n",
    "data called RDD, *Resilient Distributed Dataset*. Computation in an RDD\n",
    "is automatically parallelized across the cluster."
   ]
  },
  {
   "cell_type": "code",
   "execution_count": 3,
   "metadata": {},
   "outputs": [],
   "source": [
    "nums= sc.parallelize([1,2,3,4])"
   ]
  },
  {
   "cell_type": "markdown",
   "metadata": {},
   "source": [
    "You can access the first row with `take`"
   ]
  },
  {
   "cell_type": "code",
   "execution_count": 4,
   "metadata": {},
   "outputs": [
    {
     "data": {
      "text/plain": [
       "[1]"
      ]
     },
     "execution_count": 4,
     "metadata": {},
     "output_type": "execute_result"
    }
   ],
   "source": [
    "nums.take(1) \n"
   ]
  },
  {
   "cell_type": "markdown",
   "metadata": {},
   "source": [
    "You can apply a transformation to the data with a lambda function. In\n",
    "the example below, you return the square of `nums`. It is a map\n",
    "transformation"
   ]
  },
  {
   "cell_type": "code",
   "execution_count": 5,
   "metadata": {},
   "outputs": [
    {
     "name": "stdout",
     "output_type": "stream",
     "text": [
      "1 \n",
      "4 \n",
      "9 \n",
      "16 \n"
     ]
    }
   ],
   "source": [
    "squared = nums.map(lambda x: x*x).collect()\n",
    "for num in squared:\n",
    "    print('%i ' % (num))\n"
   ]
  },
  {
   "cell_type": "markdown",
   "metadata": {},
   "source": [
    "## SQLContext\n",
    "\n",
    "\n",
    "A more convenient way is to use the DataFrame. SparkContext is already\n",
    "set, you can use it to create the dataFrame. You also need to declare\n",
    "the `SQLContext`\n",
    "\n",
    "`SQLContext` allows connecting the engine with different data sources.\n",
    "It is used to initiate the functionalities of Spark SQL."
   ]
  },
  {
   "cell_type": "code",
   "execution_count": 6,
   "metadata": {},
   "outputs": [],
   "source": [
    "from pyspark.sql import Row\n",
    "from pyspark.sql import SQLContext"
   ]
  },
  {
   "cell_type": "code",
   "execution_count": 7,
   "metadata": {},
   "outputs": [],
   "source": [
    "sqlContext = SQLContext(sc)"
   ]
  },
  {
   "cell_type": "markdown",
   "metadata": {},
   "source": [
    "Let's create a list of tuple. Each tuple will contain the name of the\n",
    "people and their age. Four steps are required:\n",
    "\n",
    "**Step 1**: Create the list of tuple with the information"
   ]
  },
  {
   "cell_type": "markdown",
   "metadata": {},
   "source": [
    "```\n",
    "list_p = [('John',19),('Smith',29),('Adam',35),('Henry',50)]\n",
    "```"
   ]
  },
  {
   "cell_type": "markdown",
   "metadata": {},
   "source": [
    "**Step 2**: Build a RDD"
   ]
  },
  {
   "cell_type": "markdown",
   "metadata": {},
   "source": [
    "```\n",
    "rdd = sc.parallelize(list_p)\n",
    "```"
   ]
  },
  {
   "cell_type": "markdown",
   "metadata": {},
   "source": [
    "**Step 3**: Convert the tuples"
   ]
  },
  {
   "cell_type": "markdown",
   "metadata": {},
   "source": [
    "```\n",
    "ppl =rdd.map(lambda x: Row(name=x[0], age=int(x[1])))\n",
    "```"
   ]
  },
  {
   "cell_type": "markdown",
   "metadata": {},
   "source": [
    "**Step 4**: Create a DataFrame context"
   ]
  },
  {
   "cell_type": "markdown",
   "metadata": {},
   "source": [
    "```\n",
    "DF_ppl = sqlContext.createDataFrame(ppl)\n",
    "```"
   ]
  },
  {
   "cell_type": "markdown",
   "metadata": {},
   "source": [
    "Wrap everything and launch the code."
   ]
  },
  {
   "cell_type": "code",
   "execution_count": 9,
   "metadata": {},
   "outputs": [],
   "source": [
    "list_p = [('John',19),('Smith',29),('Adam',35),('Henry',50)]\n",
    "rdd = sc.parallelize(list_p)\n",
    "ppl = rdd.map(lambda x: Row(name=x[0], age=int(x[1])))\n",
    "DF_ppl = sqlContext.createDataFrame(ppl)"
   ]
  },
  {
   "cell_type": "markdown",
   "metadata": {},
   "source": [
    "If you want to access the type of each feature, you can use\n",
    "`printSchema()`"
   ]
  },
  {
   "cell_type": "code",
   "execution_count": 10,
   "metadata": {},
   "outputs": [
    {
     "name": "stdout",
     "output_type": "stream",
     "text": [
      "root\n",
      " |-- age: long (nullable = true)\n",
      " |-- name: string (nullable = true)\n",
      "\n"
     ]
    }
   ],
   "source": [
    "DF_ppl.printSchema()"
   ]
  },
  {
   "cell_type": "markdown",
   "metadata": {},
   "source": [
    "## Machine learning with Spark\n",
    "\n",
    "\n",
    "Now that you have a brief idea of Spark and SQLContext, you are ready to\n",
    "build your first Machine learning program.\n",
    "\n",
    "You will proceed as follow:\n",
    "\n",
    "**Step 1**: Basic operation with PySpark\n",
    "\n",
    "**Step 2**: Data preprocessing\n",
    "\n",
    "**Step 3**: Build a data processing pipeline\n",
    "\n",
    "**Step 4**: Build the classifier\n",
    "\n",
    "**Step 5**: Train and evaluate the model\n",
    "\n",
    "**Step 6**: Tune the hyperparameter\n",
    "\n",
    "In this tutorial, we will use the `adult` dataset. The purpose of this\n",
    "tutorial is to learn how to use Pyspark. For more information about the\n",
    "dataset, refer to [this tutorial]().\n",
    "\n",
    "Note that, the dataset is not significant and you may think that the\n",
    "computation takes a long time. Spark is designed to process a\n",
    "considerable amount of data. Spark’s performances increase relative to\n",
    "other machine learning libraries when the dataset processed grows\n",
    "larger.\n",
    "\n",
    "**Step 1**: Basic operation with PySpark\n",
    "\n",
    "First of all, you need to initialize the SQLContext is not already in\n",
    "initiated yet."
   ]
  },
  {
   "cell_type": "code",
   "execution_count": 11,
   "metadata": {},
   "outputs": [],
   "source": [
    "#from pyspark.sql import SQLContext\n",
    "url = \"https://raw.githubusercontent.com/thomaspernet/data_csv_r/master/data/adult.csv\"\n",
    "from pyspark import SparkFiles\n",
    "\n",
    "sc.addFile(url)\n",
    "sqlContext = SQLContext(sc)"
   ]
  },
  {
   "cell_type": "markdown",
   "metadata": {},
   "source": [
    "then, you can read the cvs file with `sqlContext.read.csv`. You use\n",
    "`inferSchema` set to `True` to tell Spark to guess automatically the\n",
    "type of data. By default, it is turn to `False`."
   ]
  },
  {
   "cell_type": "code",
   "execution_count": 12,
   "metadata": {},
   "outputs": [],
   "source": [
    "df = sqlContext.read.csv(SparkFiles.get(\"adult.csv\"), header=True, inferSchema=  True)"
   ]
  },
  {
   "cell_type": "markdown",
   "metadata": {},
   "source": [
    "Let's have a look at the data type"
   ]
  },
  {
   "cell_type": "code",
   "execution_count": 13,
   "metadata": {},
   "outputs": [
    {
     "name": "stdout",
     "output_type": "stream",
     "text": [
      "root\n",
      " |-- age: integer (nullable = true)\n",
      " |-- workclass: string (nullable = true)\n",
      " |-- fnlwgt: integer (nullable = true)\n",
      " |-- education: string (nullable = true)\n",
      " |-- education_num: integer (nullable = true)\n",
      " |-- marital: string (nullable = true)\n",
      " |-- occupation: string (nullable = true)\n",
      " |-- relationship: string (nullable = true)\n",
      " |-- race: string (nullable = true)\n",
      " |-- sex: string (nullable = true)\n",
      " |-- capital_gain: integer (nullable = true)\n",
      " |-- capital_loss: integer (nullable = true)\n",
      " |-- hours_week: integer (nullable = true)\n",
      " |-- native_country: string (nullable = true)\n",
      " |-- label: string (nullable = true)\n",
      "\n"
     ]
    }
   ],
   "source": [
    "df.printSchema()\n"
   ]
  },
  {
   "cell_type": "markdown",
   "metadata": {},
   "source": [
    "You can see the data with `show`."
   ]
  },
  {
   "cell_type": "code",
   "execution_count": 14,
   "metadata": {},
   "outputs": [
    {
     "name": "stdout",
     "output_type": "stream",
     "text": [
      "+---+----------------+------+---------+-------------+------------------+-----------------+-------------+-----+------+------------+------------+----------+--------------+-----+\n",
      "|age|workclass       |fnlwgt|education|education_num|marital           |occupation       |relationship |race |sex   |capital_gain|capital_loss|hours_week|native_country|label|\n",
      "+---+----------------+------+---------+-------------+------------------+-----------------+-------------+-----+------+------------+------------+----------+--------------+-----+\n",
      "|39 |State-gov       |77516 |Bachelors|13           |Never-married     |Adm-clerical     |Not-in-family|White|Male  |2174        |0           |40        |United-States |<=50K|\n",
      "|50 |Self-emp-not-inc|83311 |Bachelors|13           |Married-civ-spouse|Exec-managerial  |Husband      |White|Male  |0           |0           |13        |United-States |<=50K|\n",
      "|38 |Private         |215646|HS-grad  |9            |Divorced          |Handlers-cleaners|Not-in-family|White|Male  |0           |0           |40        |United-States |<=50K|\n",
      "|53 |Private         |234721|11th     |7            |Married-civ-spouse|Handlers-cleaners|Husband      |Black|Male  |0           |0           |40        |United-States |<=50K|\n",
      "|28 |Private         |338409|Bachelors|13           |Married-civ-spouse|Prof-specialty   |Wife         |Black|Female|0           |0           |40        |Cuba          |<=50K|\n",
      "+---+----------------+------+---------+-------------+------------------+-----------------+-------------+-----+------+------------+------------+----------+--------------+-----+\n",
      "only showing top 5 rows\n",
      "\n"
     ]
    }
   ],
   "source": [
    "df.show(5, truncate = False)"
   ]
  },
  {
   "cell_type": "markdown",
   "metadata": {},
   "source": [
    "If you didn't set `inderShema` to `True`, here is what is happening to\n",
    "the type. There are all in string."
   ]
  },
  {
   "cell_type": "code",
   "execution_count": 15,
   "metadata": {},
   "outputs": [
    {
     "name": "stdout",
     "output_type": "stream",
     "text": [
      "root\n",
      " |-- age: string (nullable = true)\n",
      " |-- workclass: string (nullable = true)\n",
      " |-- fnlwgt: string (nullable = true)\n",
      " |-- education: string (nullable = true)\n",
      " |-- education_num: string (nullable = true)\n",
      " |-- marital: string (nullable = true)\n",
      " |-- occupation: string (nullable = true)\n",
      " |-- relationship: string (nullable = true)\n",
      " |-- race: string (nullable = true)\n",
      " |-- sex: string (nullable = true)\n",
      " |-- capital_gain: string (nullable = true)\n",
      " |-- capital_loss: string (nullable = true)\n",
      " |-- hours_week: string (nullable = true)\n",
      " |-- native_country: string (nullable = true)\n",
      " |-- label: string (nullable = true)\n",
      "\n"
     ]
    }
   ],
   "source": [
    "df_string = sqlContext.read.csv(SparkFiles.get(\"adult.csv\"), header=True, inferSchema=  False)\n",
    "df_string.printSchema()\n"
   ]
  },
  {
   "cell_type": "markdown",
   "metadata": {},
   "source": [
    "To convert the continuous variable in the right format, you can use\n",
    "recast the columns. You can use `withColumn` to tell Spark which column\n",
    "to operate the transformation."
   ]
  },
  {
   "cell_type": "code",
   "execution_count": 16,
   "metadata": {},
   "outputs": [
    {
     "name": "stdout",
     "output_type": "stream",
     "text": [
      "root\n",
      " |-- age: float (nullable = true)\n",
      " |-- workclass: string (nullable = true)\n",
      " |-- fnlwgt: float (nullable = true)\n",
      " |-- education: string (nullable = true)\n",
      " |-- education_num: float (nullable = true)\n",
      " |-- marital: string (nullable = true)\n",
      " |-- occupation: string (nullable = true)\n",
      " |-- relationship: string (nullable = true)\n",
      " |-- race: string (nullable = true)\n",
      " |-- sex: string (nullable = true)\n",
      " |-- capital_gain: float (nullable = true)\n",
      " |-- capital_loss: float (nullable = true)\n",
      " |-- hours_week: float (nullable = true)\n",
      " |-- native_country: string (nullable = true)\n",
      " |-- label: string (nullable = true)\n",
      "\n"
     ]
    }
   ],
   "source": [
    "# Import all from `sql.types`\n",
    "from pyspark.sql.types import *\n",
    "\n",
    "# Write a custom function to convert the data type of DataFrame columns\n",
    "def convertColumn(df, names, newType):\n",
    "    for name in names: \n",
    "        df = df.withColumn(name, df[name].cast(newType))\n",
    "    return df \n",
    "\n",
    "# List of continuous features\n",
    "CONTI_FEATURES  = ['age', 'fnlwgt','capital_gain', 'education_num', 'capital_loss', 'hours_week']\n",
    "# Convert the type\n",
    "df_string = convertColumn(df_string, CONTI_FEATURES, FloatType())\n",
    "# Check the dataset\n",
    "df_string.printSchema()\n"
   ]
  },
  {
   "cell_type": "markdown",
   "metadata": {},
   "source": [
    "​    \n",
    "    from pyspark.ml.feature import StringIndexer\n",
    "    #stringIndexer = StringIndexer(inputCol=\"label\", outputCol=\"newlabel\")\n",
    "    #model = stringIndexer.fit(df)\n",
    "    #df = model.transform(df)\n",
    "    df.printSchema()\n",
    "\n",
    "\\*\\* Select columns\\*\\*\n",
    "\n",
    "You can select and show the rows with `select` and the names of the\n",
    "features. Below, `age` and `fnlwgt` are selected."
   ]
  },
  {
   "cell_type": "code",
   "execution_count": 17,
   "metadata": {},
   "outputs": [
    {
     "name": "stdout",
     "output_type": "stream",
     "text": [
      "+---+------+\n",
      "|age|fnlwgt|\n",
      "+---+------+\n",
      "| 39| 77516|\n",
      "| 50| 83311|\n",
      "| 38|215646|\n",
      "| 53|234721|\n",
      "| 28|338409|\n",
      "+---+------+\n",
      "only showing top 5 rows\n",
      "\n"
     ]
    }
   ],
   "source": [
    "df.select('age','fnlwgt').show(5)\n"
   ]
  },
  {
   "cell_type": "markdown",
   "metadata": {},
   "source": [
    "**Count by group**\n",
    "\n",
    "If you want to count the number of occurence by group, you can chain:\n",
    "\n",
    "-   `groupBy()`\n",
    "\n",
    "-   `count()\n",
    "\n",
    "together. In the example below, you count the number of rows by the\n",
    "education level."
   ]
  },
  {
   "cell_type": "code",
   "execution_count": 18,
   "metadata": {},
   "outputs": [
    {
     "name": "stdout",
     "output_type": "stream",
     "text": [
      "+------------+-----+\n",
      "|   education|count|\n",
      "+------------+-----+\n",
      "|   Preschool|   51|\n",
      "|     1st-4th|  168|\n",
      "|     5th-6th|  333|\n",
      "|   Doctorate|  413|\n",
      "|        12th|  433|\n",
      "|         9th|  514|\n",
      "| Prof-school|  576|\n",
      "|     7th-8th|  646|\n",
      "|        10th|  933|\n",
      "|  Assoc-acdm| 1067|\n",
      "|        11th| 1175|\n",
      "|   Assoc-voc| 1382|\n",
      "|     Masters| 1723|\n",
      "|   Bachelors| 5355|\n",
      "|Some-college| 7291|\n",
      "|     HS-grad|10501|\n",
      "+------------+-----+\n",
      "\n"
     ]
    }
   ],
   "source": [
    "df.groupBy(\"education\").count().sort(\"count\",ascending=True).show()"
   ]
  },
  {
   "cell_type": "markdown",
   "metadata": {},
   "source": [
    "**Describe the data**\n",
    "\n",
    "To get a summary statistics, of the data, you can use `describe()`. It\n",
    "will compute the :\n",
    "\n",
    "-   count\n",
    "\n",
    "-   mean\n",
    "\n",
    "-   standarddeviation\n",
    "\n",
    "-   min\n",
    "\n",
    "-   max"
   ]
  },
  {
   "cell_type": "code",
   "execution_count": 19,
   "metadata": {},
   "outputs": [
    {
     "name": "stdout",
     "output_type": "stream",
     "text": [
      "+-------+------------------+-----------+------------------+------------+-----------------+--------+----------------+------------+------------------+------+------------------+----------------+------------------+--------------+-----+\n",
      "|summary|               age|  workclass|            fnlwgt|   education|    education_num| marital|      occupation|relationship|              race|   sex|      capital_gain|    capital_loss|        hours_week|native_country|label|\n",
      "+-------+------------------+-----------+------------------+------------+-----------------+--------+----------------+------------+------------------+------+------------------+----------------+------------------+--------------+-----+\n",
      "|  count|             32561|      32561|             32561|       32561|            32561|   32561|           32561|       32561|             32561| 32561|             32561|           32561|             32561|         32561|32561|\n",
      "|   mean| 38.58164675532078|       null|189778.36651208502|        null| 10.0806793403151|    null|            null|        null|              null|  null|1077.6488437087312| 87.303829734959|40.437455852092995|          null| null|\n",
      "| stddev|13.640432553581356|       null|105549.97769702227|        null|2.572720332067397|    null|            null|        null|              null|  null| 7385.292084840354|402.960218649002|12.347428681731838|          null| null|\n",
      "|    min|                17|          ?|             12285|        10th|                1|Divorced|               ?|     Husband|Amer-Indian-Eskimo|Female|                 0|               0|                 1|             ?|<=50K|\n",
      "|    max|                90|Without-pay|           1484705|Some-college|               16| Widowed|Transport-moving|        Wife|             White|  Male|             99999|            4356|                99|    Yugoslavia| >50K|\n",
      "+-------+------------------+-----------+------------------+------------+-----------------+--------+----------------+------------+------------------+------+------------------+----------------+------------------+--------------+-----+\n",
      "\n"
     ]
    }
   ],
   "source": [
    "df.describe().show()\n"
   ]
  },
  {
   "cell_type": "markdown",
   "metadata": {},
   "source": [
    "If you want the summary statistic of only one column, add the name of\n",
    "the column inside `describe()`"
   ]
  },
  {
   "cell_type": "code",
   "execution_count": 20,
   "metadata": {},
   "outputs": [
    {
     "name": "stdout",
     "output_type": "stream",
     "text": [
      "+-------+------------------+\n",
      "|summary|      capital_gain|\n",
      "+-------+------------------+\n",
      "|  count|             32561|\n",
      "|   mean|1077.6488437087312|\n",
      "| stddev| 7385.292084840354|\n",
      "|    min|                 0|\n",
      "|    max|             99999|\n",
      "+-------+------------------+\n",
      "\n"
     ]
    }
   ],
   "source": [
    "df.describe('capital_gain').show()\n"
   ]
  },
  {
   "cell_type": "markdown",
   "metadata": {},
   "source": [
    "**Crosstab computation**\n",
    "\n",
    "In some occasion, it can be interesting to see the descriptive\n",
    "statistics between two pairwise columns. For instance, you can count the\n",
    "number of people with income below or above 50k by education level. This\n",
    "operation is called a crosstab."
   ]
  },
  {
   "cell_type": "code",
   "execution_count": 21,
   "metadata": {},
   "outputs": [
    {
     "name": "stdout",
     "output_type": "stream",
     "text": [
      "+---------+-----+----+\n",
      "|age_label|<=50K|>50K|\n",
      "+---------+-----+----+\n",
      "|       17|  395|   0|\n",
      "|       18|  550|   0|\n",
      "|       19|  710|   2|\n",
      "|       20|  753|   0|\n",
      "|       21|  717|   3|\n",
      "|       22|  752|  13|\n",
      "|       23|  865|  12|\n",
      "|       24|  767|  31|\n",
      "|       25|  788|  53|\n",
      "|       26|  722|  63|\n",
      "|       27|  754|  81|\n",
      "|       28|  748| 119|\n",
      "|       29|  679| 134|\n",
      "|       30|  690| 171|\n",
      "|       31|  705| 183|\n",
      "|       32|  639| 189|\n",
      "|       33|  684| 191|\n",
      "|       34|  643| 243|\n",
      "|       35|  659| 217|\n",
      "|       36|  635| 263|\n",
      "+---------+-----+----+\n",
      "only showing top 20 rows\n",
      "\n"
     ]
    }
   ],
   "source": [
    "df.crosstab('age', 'label').sort(\"age_label\").show()\n"
   ]
  },
  {
   "cell_type": "markdown",
   "metadata": {},
   "source": [
    "You can see no people have revenue above 50k when they are young.\n",
    "\n",
    "**Drop column**\n",
    "\n",
    "There are two intuitive API to drop columns:\n",
    "\n",
    "-   `drop()`: Drop a column\n",
    "\n",
    "-   `dropna()`: Drop NA's\n",
    "\n",
    "Below you drop the column `education_num`"
   ]
  },
  {
   "cell_type": "code",
   "execution_count": 22,
   "metadata": {},
   "outputs": [
    {
     "data": {
      "text/plain": [
       "['age',\n",
       " 'workclass',\n",
       " 'fnlwgt',\n",
       " 'education',\n",
       " 'marital',\n",
       " 'occupation',\n",
       " 'relationship',\n",
       " 'race',\n",
       " 'sex',\n",
       " 'capital_gain',\n",
       " 'capital_loss',\n",
       " 'hours_week',\n",
       " 'native_country',\n",
       " 'label']"
      ]
     },
     "execution_count": 22,
     "metadata": {},
     "output_type": "execute_result"
    }
   ],
   "source": [
    "df.drop('education_num').columns\n"
   ]
  },
  {
   "cell_type": "markdown",
   "metadata": {},
   "source": [
    "**Filter data**\n",
    "\n",
    "You can use `filter()` to apply descriptive statistics in a subset of\n",
    "data. For instance, you can count the number of people above 40 year old"
   ]
  },
  {
   "cell_type": "code",
   "execution_count": 23,
   "metadata": {},
   "outputs": [
    {
     "data": {
      "text/plain": [
       "13443"
      ]
     },
     "execution_count": 23,
     "metadata": {},
     "output_type": "execute_result"
    }
   ],
   "source": [
    "df.filter(df.age > 40).count()\n"
   ]
  },
  {
   "cell_type": "markdown",
   "metadata": {},
   "source": [
    "​    \n",
    "\n",
    "**Descriptive statistics by group**\n",
    "\n",
    "Finally, you can group data by group and compute statistical operations\n",
    "like the mean."
   ]
  },
  {
   "cell_type": "code",
   "execution_count": 24,
   "metadata": {},
   "outputs": [
    {
     "name": "stdout",
     "output_type": "stream",
     "text": [
      "+--------------------+------------------+\n",
      "|             marital| avg(capital_gain)|\n",
      "+--------------------+------------------+\n",
      "|           Separated| 535.5687804878049|\n",
      "|       Never-married|376.58831788823363|\n",
      "|Married-spouse-ab...| 653.9832535885167|\n",
      "|            Divorced| 728.4148098131893|\n",
      "|             Widowed| 571.0715005035247|\n",
      "|   Married-AF-spouse| 432.6521739130435|\n",
      "|  Married-civ-spouse|1764.8595085470085|\n",
      "+--------------------+------------------+\n",
      "\n"
     ]
    }
   ],
   "source": [
    "df.groupby('marital').agg({'capital_gain': 'mean'}).show()\n"
   ]
  },
  {
   "cell_type": "markdown",
   "metadata": {},
   "source": [
    "**Step 2**: Data preprocessing\n",
    "\n",
    "Data processing is a critical step in machine learning. After you remove\n",
    "garbage data, you get some important insights. For instance, you know\n",
    "that age is not a linear function with the income. When people are\n",
    "young, their income is usually lower than mid-age. After retirement, a\n",
    "household uses their saving, meaning a decrease in income. To capture\n",
    "this pattern, you can add a square to the `age` feature\n",
    "\n",
    "**Add age square**\n",
    "\n",
    "To add a new feature, you need to:\n",
    "\n",
    "1.  Select the column\n",
    "\n",
    "2.  Apply the transformation and add it to the DataFrame\n",
    "\n",
    "<!-- -->"
   ]
  },
  {
   "cell_type": "code",
   "execution_count": 25,
   "metadata": {},
   "outputs": [
    {
     "name": "stdout",
     "output_type": "stream",
     "text": [
      "root\n",
      " |-- age: integer (nullable = true)\n",
      " |-- workclass: string (nullable = true)\n",
      " |-- fnlwgt: integer (nullable = true)\n",
      " |-- education: string (nullable = true)\n",
      " |-- education_num: integer (nullable = true)\n",
      " |-- marital: string (nullable = true)\n",
      " |-- occupation: string (nullable = true)\n",
      " |-- relationship: string (nullable = true)\n",
      " |-- race: string (nullable = true)\n",
      " |-- sex: string (nullable = true)\n",
      " |-- capital_gain: integer (nullable = true)\n",
      " |-- capital_loss: integer (nullable = true)\n",
      " |-- hours_week: integer (nullable = true)\n",
      " |-- native_country: string (nullable = true)\n",
      " |-- label: string (nullable = true)\n",
      " |-- age_square: double (nullable = true)\n",
      "\n"
     ]
    }
   ],
   "source": [
    "from pyspark.sql.functions import *\n",
    "\n",
    "# 1 Select the column\n",
    "age_square = df.select(col(\"age\")**2)\n",
    "\n",
    "# 2 Apply the transformation and add it to the DataFrame\n",
    "df = df.withColumn(\"age_square\", col(\"age\")**2)\n",
    "\n",
    "df.printSchema()\n"
   ]
  },
  {
   "cell_type": "markdown",
   "metadata": {},
   "source": [
    "You can see that `age_square` has been successfully added to the data\n",
    "frame. You can change the order of the variables with `select`. Below,\n",
    "you bring `age_square` right after `age.`"
   ]
  },
  {
   "cell_type": "code",
   "execution_count": 26,
   "metadata": {},
   "outputs": [
    {
     "data": {
      "text/plain": [
       "Row(age=39, age_square=1521.0, workclass='State-gov', fnlwgt=77516, education='Bachelors', education_num=13, marital='Never-married', occupation='Adm-clerical', relationship='Not-in-family', race='White', sex='Male', capital_gain=2174, capital_loss=0, hours_week=40, native_country='United-States', label='<=50K')"
      ]
     },
     "execution_count": 26,
     "metadata": {},
     "output_type": "execute_result"
    }
   ],
   "source": [
    "COLUMNS = ['age', 'age_square', 'workclass', 'fnlwgt', 'education', 'education_num', 'marital',\n",
    "           'occupation', 'relationship', 'race', 'sex', 'capital_gain', 'capital_loss',\n",
    "           'hours_week', 'native_country', 'label']\n",
    "df = df.select(COLUMNS)\n",
    "df.first()\n"
   ]
  },
  {
   "cell_type": "markdown",
   "metadata": {},
   "source": [
    "**Exclude Holand-Netherlands**\n",
    "\n",
    "When a group within a feature has only one observation, it brings no\n",
    "information to the model. On the contrary, it can lead to an error\n",
    "during the cross-validation.\n",
    "\n",
    "Let's check the origin of the household"
   ]
  },
  {
   "cell_type": "code",
   "execution_count": 27,
   "metadata": {},
   "outputs": [
    {
     "name": "stdout",
     "output_type": "stream",
     "text": [
      "+--------------------+---------------------+\n",
      "|      native_country|count(native_country)|\n",
      "+--------------------+---------------------+\n",
      "|  Holand-Netherlands|                    1|\n",
      "|            Scotland|                   12|\n",
      "|             Hungary|                   13|\n",
      "|            Honduras|                   13|\n",
      "|Outlying-US(Guam-...|                   14|\n",
      "|          Yugoslavia|                   16|\n",
      "|                Laos|                   18|\n",
      "|            Thailand|                   18|\n",
      "|     Trinadad&Tobago|                   19|\n",
      "|            Cambodia|                   19|\n",
      "|                Hong|                   20|\n",
      "|             Ireland|                   24|\n",
      "|             Ecuador|                   28|\n",
      "|              Greece|                   29|\n",
      "|              France|                   29|\n",
      "|                Peru|                   31|\n",
      "|           Nicaragua|                   34|\n",
      "|            Portugal|                   37|\n",
      "|                Iran|                   43|\n",
      "|               Haiti|                   44|\n",
      "+--------------------+---------------------+\n",
      "only showing top 20 rows\n",
      "\n"
     ]
    }
   ],
   "source": [
    "df.filter(df.native_country == 'Holand-Netherlands').count()\n",
    "df.groupby('native_country').agg({'native_country': 'count'}).sort(asc(\"count(native_country)\")).show()\n"
   ]
  },
  {
   "cell_type": "markdown",
   "metadata": {},
   "source": [
    "The feature `native_country` has only one household coming from\n",
    "Netherland. You exclude it."
   ]
  },
  {
   "cell_type": "code",
   "execution_count": 28,
   "metadata": {},
   "outputs": [],
   "source": [
    "df_remove = df.filter(df.native_country != 'Holand-Netherlands')"
   ]
  },
  {
   "cell_type": "markdown",
   "metadata": {},
   "source": [
    "**Step 3**: Build a data processing pipeline**\n",
    "\n",
    "\n",
    "Similar to scikit-learn, Pyspark has a pipeline API. A pipeline is very\n",
    "convenient to maintain the structure of the data. You push the data into\n",
    "the pipeline. Inside the pipeline, various operations are done, the\n",
    "output is used to feed the algorithm.\n",
    "\n",
    "For instance, one universal transformation in machine learning consists\n",
    "of converting a string to one hot encoder, i.e., one column by a group.\n",
    "One hot encoder is usually a matrix full of zeroes.\n",
    "\n",
    "The steps to transform the data are very similar to scikit-learn. You\n",
    "need to:\n",
    "\n",
    "-   Index the string to numeric\n",
    "\n",
    "-   Create the one hot encoder\n",
    "\n",
    "-   Transform the data\n",
    "\n",
    "Two APIs do the job: `StringIndexer`, `OneHotEncoder`\n",
    "\n",
    "1.  First of all, you select the string column to index. The `inputCol`\n",
    "    is the name of the column in the dataset. `outputCol` is the new\n",
    "    name given to the transformed column."
   ]
  },
  {
   "cell_type": "markdown",
   "metadata": {},
   "source": [
    "```\n",
    "StringIndexer(inputCol=\"workclass\", outputCol=\"workclass_encoded\")\n",
    "```"
   ]
  },
  {
   "cell_type": "markdown",
   "metadata": {},
   "source": [
    "2.  Fit the data and transform it"
   ]
  },
  {
   "cell_type": "markdown",
   "metadata": {},
   "source": [
    "```\n",
    "model = stringIndexer.fit(df)\n",
    "indexed = model.transform(df)\n",
    "```"
   ]
  },
  {
   "cell_type": "markdown",
   "metadata": {},
   "source": [
    "3.  Create the news columns based on the group. For instance, if there\n",
    "    are 10 groups in the feature, the new matrix will have 10 columns,\n",
    "    one for each group.\n",
    "    \n",
    "-   `OneHotEncoder(dropLast=False, inputCol=\"workclass*encoded\",\n",
    "    outputCol=\"workclass*vec\")`"
   ]
  },
  {
   "cell_type": "code",
   "execution_count": 30,
   "metadata": {},
   "outputs": [
    {
     "name": "stdout",
     "output_type": "stream",
     "text": [
      "+---+----------+----------------+------+---------+-------------+------------------+---------------+-------------+-----+----+------------+------------+----------+--------------+-----+-----------------+-------------+\n",
      "|age|age_square|       workclass|fnlwgt|education|education_num|           marital|     occupation| relationship| race| sex|capital_gain|capital_loss|hours_week|native_country|label|workclass_encoded|workclass_vec|\n",
      "+---+----------+----------------+------+---------+-------------+------------------+---------------+-------------+-----+----+------------+------------+----------+--------------+-----+-----------------+-------------+\n",
      "| 39|    1521.0|       State-gov| 77516|Bachelors|           13|     Never-married|   Adm-clerical|Not-in-family|White|Male|        2174|           0|        40| United-States|<=50K|              4.0|(9,[4],[1.0])|\n",
      "| 50|    2500.0|Self-emp-not-inc| 83311|Bachelors|           13|Married-civ-spouse|Exec-managerial|      Husband|White|Male|           0|           0|        13| United-States|<=50K|              1.0|(9,[1],[1.0])|\n",
      "+---+----------+----------------+------+---------+-------------+------------------+---------------+-------------+-----+----+------------+------------+----------+--------------+-----+-----------------+-------------+\n",
      "only showing top 2 rows\n",
      "\n"
     ]
    }
   ],
   "source": [
    "### Example encoder\n",
    "from pyspark.ml.feature import StringIndexer, OneHotEncoder, VectorAssembler\n",
    "\n",
    "stringIndexer = StringIndexer(inputCol=\"workclass\", outputCol=\"workclass_encoded\")\n",
    "model = stringIndexer.fit(df)\n",
    "indexed = model.transform(df)\n",
    "encoder = OneHotEncoder(dropLast=False, inputCol=\"workclass_encoded\", outputCol=\"workclass_vec\")\n",
    "encoded = encoder.transform(indexed)\n",
    "encoded.show(2)\n"
   ]
  },
  {
   "cell_type": "markdown",
   "metadata": {},
   "source": [
    "**Build the pipeline**\n",
    "\n",
    "You will build a pipeline to convert all the precise features and add\n",
    "them to the final dataset. The pipeline will have four operations, but\n",
    "feel free to add as many operations as you want.\n",
    "\n",
    "1.  Encode the categorical data\n",
    "\n",
    "2.  Index the label feature\n",
    "\n",
    "3.  Add continuous variable\n",
    "\n",
    "4.  Assemble the steps.\n",
    "\n",
    "Each step is stored in a list named `stages`. This list will tell the\n",
    "`VectorAssembler` what operation to perform inside the pipeline.\n",
    "\n",
    "**1. Encode the categorical data**\n",
    "\n",
    "This step is exaclty the same as the above example, except that you loop\n",
    "over all the categorical features."
   ]
  },
  {
   "cell_type": "code",
   "execution_count": 31,
   "metadata": {},
   "outputs": [],
   "source": [
    "from pyspark.ml import Pipeline\n",
    "from pyspark.ml.feature import OneHotEncoderEstimator\n",
    "CATE_FEATURES = ['workclass', 'education', 'marital', 'occupation', 'relationship', 'race', 'sex', 'native_country']\n",
    "stages = [] # stages in our Pipeline\n",
    "for categoricalCol in CATE_FEATURES:\n",
    "    stringIndexer = StringIndexer(inputCol=categoricalCol, outputCol=categoricalCol + \"Index\")\n",
    "    encoder = OneHotEncoderEstimator(inputCols=[stringIndexer.getOutputCol()],\n",
    "                                     outputCols=[categoricalCol + \"classVec\"])\n",
    "    stages += [stringIndexer, encoder]"
   ]
  },
  {
   "cell_type": "markdown",
   "metadata": {},
   "source": [
    "**2. Index the label feature**\n",
    "\n",
    "Spark, like many other libraries, does not accept string values for the\n",
    "label. You convert the `label` feature with `StringIndexer` and add it\n",
    "to the list `stages`"
   ]
  },
  {
   "cell_type": "code",
   "execution_count": 32,
   "metadata": {},
   "outputs": [],
   "source": [
    "# Convert label into label indices using the StringIndexer\n",
    "label_stringIdx =  StringIndexer(inputCol=\"label\", outputCol=\"newlabel\")\n",
    "stages += [label_stringIdx]"
   ]
  },
  {
   "cell_type": "markdown",
   "metadata": {},
   "source": [
    "**3. Add continuous variable**\n",
    "\n",
    "The `inputCols` of the `VectorAssembler` is a list of columns. You can\n",
    "create a new list containing all the new columns. The code below\n",
    "popluate the list with encoded categorical features and the continuous\n",
    "features."
   ]
  },
  {
   "cell_type": "code",
   "execution_count": 33,
   "metadata": {},
   "outputs": [],
   "source": [
    "assemblerInputs = [c + \"classVec\" for c in CATE_FEATURES] + CONTI_FEATURES"
   ]
  },
  {
   "cell_type": "markdown",
   "metadata": {},
   "source": [
    "**4. Assemble the steps.**\n",
    "\n",
    "Finally, you pass all the steps in the `VectorAssembler`"
   ]
  },
  {
   "cell_type": "code",
   "execution_count": 34,
   "metadata": {},
   "outputs": [],
   "source": [
    "assembler = VectorAssembler(inputCols=assemblerInputs, outputCol=\"features\")\n",
    "stages += [assembler]"
   ]
  },
  {
   "cell_type": "markdown",
   "metadata": {},
   "source": [
    "Now that all the steps are ready, you push the data to the pipeline."
   ]
  },
  {
   "cell_type": "code",
   "execution_count": 35,
   "metadata": {},
   "outputs": [],
   "source": [
    "# Create a Pipeline.\n",
    "pipeline = Pipeline(stages=stages)\n",
    "pipelineModel = pipeline.fit(df_remove)\n",
    "model = pipelineModel.transform(df_remove)"
   ]
  },
  {
   "cell_type": "markdown",
   "metadata": {},
   "source": [
    "If you check the new dataset, you can see that it contains all the\n",
    "features, transformed and not transformed. You are only interested by\n",
    "the `newlabel` and `features`. The `features` includes all the\n",
    "transformed features and the continuous variables."
   ]
  },
  {
   "cell_type": "code",
   "execution_count": 36,
   "metadata": {},
   "outputs": [
    {
     "data": {
      "text/plain": [
       "[Row(age=39, age_square=1521.0, workclass='State-gov', fnlwgt=77516, education='Bachelors', education_num=13, marital='Never-married', occupation='Adm-clerical', relationship='Not-in-family', race='White', sex='Male', capital_gain=2174, capital_loss=0, hours_week=40, native_country='United-States', label='<=50K', workclassIndex=4.0, workclassclassVec=SparseVector(8, {4: 1.0}), educationIndex=2.0, educationclassVec=SparseVector(15, {2: 1.0}), maritalIndex=1.0, maritalclassVec=SparseVector(6, {1: 1.0}), occupationIndex=3.0, occupationclassVec=SparseVector(14, {3: 1.0}), relationshipIndex=1.0, relationshipclassVec=SparseVector(5, {1: 1.0}), raceIndex=0.0, raceclassVec=SparseVector(4, {0: 1.0}), sexIndex=0.0, sexclassVec=SparseVector(1, {0: 1.0}), native_countryIndex=0.0, native_countryclassVec=SparseVector(40, {0: 1.0}), newlabel=0.0, features=SparseVector(99, {4: 1.0, 10: 1.0, 24: 1.0, 32: 1.0, 44: 1.0, 48: 1.0, 52: 1.0, 53: 1.0, 93: 39.0, 94: 77516.0, 95: 2174.0, 96: 13.0, 98: 40.0}))]"
      ]
     },
     "execution_count": 36,
     "metadata": {},
     "output_type": "execute_result"
    }
   ],
   "source": [
    "model.take(1)\n"
   ]
  },
  {
   "cell_type": "markdown",
   "metadata": {},
   "source": [
    "**Step 4**: Build the classifier: logistic\n",
    "\n",
    "\n",
    "To make the computation faster, you convert `model` to a DataFrame. You\n",
    "need to select `newlabel` and `features` from `model` using `map`."
   ]
  },
  {
   "cell_type": "code",
   "execution_count": 37,
   "metadata": {},
   "outputs": [],
   "source": [
    "from pyspark.ml.linalg import DenseVector\n",
    "input_data = model.rdd.map(lambda x: (x[\"newlabel\"], DenseVector(x[\"features\"])))"
   ]
  },
  {
   "cell_type": "markdown",
   "metadata": {},
   "source": [
    "You are ready to create the train data as a DataFrame. You use the\n",
    "`sqlContext`"
   ]
  },
  {
   "cell_type": "code",
   "execution_count": 38,
   "metadata": {},
   "outputs": [],
   "source": [
    "df_train = sqlContext.createDataFrame(input_data, [\"label\", \"features\"])"
   ]
  },
  {
   "cell_type": "markdown",
   "metadata": {},
   "source": [
    "Check the second row"
   ]
  },
  {
   "cell_type": "code",
   "execution_count": 39,
   "metadata": {},
   "outputs": [
    {
     "name": "stdout",
     "output_type": "stream",
     "text": [
      "+-----+--------------------+\n",
      "|label|            features|\n",
      "+-----+--------------------+\n",
      "|  0.0|[0.0,0.0,0.0,0.0,...|\n",
      "|  0.0|[0.0,1.0,0.0,0.0,...|\n",
      "+-----+--------------------+\n",
      "only showing top 2 rows\n",
      "\n"
     ]
    }
   ],
   "source": [
    "df_train.show(2)\n"
   ]
  },
  {
   "cell_type": "markdown",
   "metadata": {},
   "source": [
    "**Create a train/test set**\n",
    "\n",
    "You split the dataset 80/20 with `randomSplit`."
   ]
  },
  {
   "cell_type": "code",
   "execution_count": 40,
   "metadata": {},
   "outputs": [],
   "source": [
    "# Split the data into train and test sets\n",
    "train_data, test_data = df_train.randomSplit([.8,.2],seed=1234)"
   ]
  },
  {
   "cell_type": "markdown",
   "metadata": {},
   "source": [
    "Let's count how many people with income below/above 50k in both training\n",
    "and test set"
   ]
  },
  {
   "cell_type": "code",
   "execution_count": 41,
   "metadata": {},
   "outputs": [
    {
     "name": "stdout",
     "output_type": "stream",
     "text": [
      "+-----+------------+\n",
      "|label|count(label)|\n",
      "+-----+------------+\n",
      "|  0.0|       19698|\n",
      "|  1.0|        6263|\n",
      "+-----+------------+\n",
      "\n"
     ]
    }
   ],
   "source": [
    "train_data.groupby('label').agg({'label': 'count'}).show()\n"
   ]
  },
  {
   "cell_type": "markdown",
   "metadata": {},
   "source": [
    "​    \n",
    "    test_data.groupby('label').agg({'label': 'count'}).show()\n",
    "\n",
    "\n",
    "**Build the logistic regressor**\n",
    "\n",
    "Last but not least, you can build the classifier. Pyspark has an API\n",
    "called `LogisticRegression` to perform logistic regression.\n",
    "\n",
    "You initialize `lr` by indicating the label column and feature columns.\n",
    "You set a maximum of 10 iterations and add a regularization parameter\n",
    "with a value of 0.3. Note that in the next section, you will use\n",
    "cross-validation with a parameter grid to tune the model"
   ]
  },
  {
   "cell_type": "code",
   "execution_count": 42,
   "metadata": {},
   "outputs": [],
   "source": [
    "# Import `LinearRegression`\n",
    "from pyspark.ml.classification import LogisticRegression\n",
    "\n",
    "# Initialize `lr`\n",
    "lr = LogisticRegression(labelCol=\"label\",\n",
    "                        featuresCol=\"features\",\n",
    "                        maxIter=10,\n",
    "                        regParam=0.3)\n",
    "\n",
    "# Fit the data to the model\n",
    "linearModel = lr.fit(train_data)"
   ]
  },
  {
   "cell_type": "markdown",
   "metadata": {},
   "source": [
    "\\#You can see the coefficients from the regression"
   ]
  },
  {
   "cell_type": "code",
   "execution_count": 43,
   "metadata": {},
   "outputs": [
    {
     "name": "stdout",
     "output_type": "stream",
     "text": [
      "Coefficients: [-0.0678914665262,-0.153425526813,-0.0706009536407,-0.164057586562,-0.120655298528,0.162922330862,0.149176870438,-0.626836362611,-0.193483661541,-0.0782269980838,0.222667203836,0.399571096381,-0.0222024341804,-0.311925857859,-0.0434497788688,-0.306007744328,-0.41318209688,0.547937504247,-0.395837350854,-0.23166535958,0.618743906733,-0.344088614546,-0.385266881369,0.317324463006,-0.350518889186,-0.201335923138,-0.232878560088,-0.13349278865,-0.119760542498,0.17500602491,-0.0480968101118,0.288484253943,-0.116314616745,0.0524163478063,-0.300952624551,-0.22046421474,-0.16557996579,-0.114676231939,-0.311966431453,-0.344226119233,0.105530129507,0.152243047814,-0.292774545497,0.263628334433,-0.199951374076,-0.30329422583,-0.231087515178,0.418918551,-0.0565930184279,-0.177818073048,-0.0733236680663,-0.267972912252,0.168491215697,-0.12181255723,-0.385648075442,-0.202101794517,0.0469791640782,-0.00842850210625,-0.00373211448629,-0.259296141281,-0.309896554133,-0.168434409756,-0.11048086026,0.0280647963877,-0.204187030092,-0.414392623536,-0.252806580669,0.143366465705,-0.516359222663,-0.435627370849,-0.301949286524,0.0878249035894,-0.210951740965,-0.621417928742,-0.099445190784,-0.232671473401,-0.1077745606,-0.360429419703,-0.420362959052,-0.379729467809,-0.395186242741,0.0826401853838,-0.280251589972,0.187313505214,-0.20295228799,-0.431177064626,0.149759018379,-0.107114299614,-0.319314858424,0.0028450133235,-0.651220387649,-0.327918792207,-0.143659581445,0.00691075160413,8.38517628783e-08,2.18856717378e-05,0.0266701216268,0.000231075966823,0.00893832698698]\n",
      "Intercept: -1.9884177974805692\n"
     ]
    }
   ],
   "source": [
    "# Print the coefficients and intercept for logistic regression\n",
    "print(\"Coefficients: \" + str(linearModel.coefficients))\n",
    "print(\"Intercept: \" + str(linearModel.intercept))\n"
   ]
  },
  {
   "cell_type": "markdown",
   "metadata": {},
   "source": [
    "**Step 5**: Train and evaluate the model\n",
    "\n",
    "To generate prediction for your test set, you can use `linearModel` with\n",
    "`transform()` on `test_data`"
   ]
  },
  {
   "cell_type": "code",
   "execution_count": 44,
   "metadata": {},
   "outputs": [],
   "source": [
    "# Make predictions on test data using the transform() method.\n",
    "predictions = linearModel.transform(test_data)"
   ]
  },
  {
   "cell_type": "markdown",
   "metadata": {},
   "source": [
    "You can print the elements in `predictions`"
   ]
  },
  {
   "cell_type": "code",
   "execution_count": 45,
   "metadata": {},
   "outputs": [
    {
     "name": "stdout",
     "output_type": "stream",
     "text": [
      "root\n",
      " |-- label: double (nullable = true)\n",
      " |-- features: vector (nullable = true)\n",
      " |-- rawPrediction: vector (nullable = true)\n",
      " |-- probability: vector (nullable = true)\n",
      " |-- prediction: double (nullable = false)\n",
      "\n"
     ]
    }
   ],
   "source": [
    "predictions.printSchema()\n"
   ]
  },
  {
   "cell_type": "markdown",
   "metadata": {},
   "source": [
    "You are interested by the `label`, `prediction` and the `probability`"
   ]
  },
  {
   "cell_type": "code",
   "execution_count": 46,
   "metadata": {},
   "outputs": [
    {
     "name": "stdout",
     "output_type": "stream",
     "text": [
      "+-----+----------+--------------------+\n",
      "|label|prediction|         probability|\n",
      "+-----+----------+--------------------+\n",
      "|  0.0|       0.0|[0.91560704124179...|\n",
      "|  0.0|       0.0|[0.92812140213994...|\n",
      "|  0.0|       0.0|[0.92161406774159...|\n",
      "|  0.0|       0.0|[0.96222760777142...|\n",
      "|  0.0|       0.0|[0.66363283056957...|\n",
      "|  0.0|       0.0|[0.65571324475477...|\n",
      "|  0.0|       0.0|[0.73053376932829...|\n",
      "|  0.0|       1.0|[0.31265053873570...|\n",
      "|  0.0|       0.0|[0.80005907577390...|\n",
      "|  0.0|       0.0|[0.76482251301640...|\n",
      "|  0.0|       0.0|[0.84447301189069...|\n",
      "|  0.0|       0.0|[0.75691912026619...|\n",
      "|  0.0|       0.0|[0.60902504096722...|\n",
      "|  0.0|       0.0|[0.80799228385509...|\n",
      "|  0.0|       0.0|[0.87704364852567...|\n",
      "|  0.0|       0.0|[0.83817652582377...|\n",
      "|  0.0|       0.0|[0.79655423248500...|\n",
      "|  0.0|       0.0|[0.82712311232246...|\n",
      "|  0.0|       0.0|[0.81372823882016...|\n",
      "|  0.0|       0.0|[0.59687710752201...|\n",
      "+-----+----------+--------------------+\n",
      "only showing top 20 rows\n",
      "\n"
     ]
    }
   ],
   "source": [
    "selected = predictions.select(\"label\", \"prediction\", \"probability\")\n",
    "selected.show(20)\n"
   ]
  },
  {
   "cell_type": "markdown",
   "metadata": {},
   "source": [
    "### Evaluate the model\n",
    "\n",
    "You need to look at the accuracy metric to see how well (or bad) the\n",
    "model performs. Currently, there is no API to compute the accuracy\n",
    "measure in Spark. The default value is the ROC, receiver operating\n",
    "characteristic curve. It is a different metrics that take into account\n",
    "the false positive rate.\n",
    "\n",
    "Before you look at the ROC, let's construct the accuracy measure. You\n",
    "are more familiar with this metric. The accuracy measure is the sum of\n",
    "the correct prediction over the total number of observations.\n",
    "\n",
    "You create a DataFrame with the `label` and the \\`prediction."
   ]
  },
  {
   "cell_type": "code",
   "execution_count": 47,
   "metadata": {},
   "outputs": [],
   "source": [
    "cm = predictions.select(\"label\", \"prediction\")"
   ]
  },
  {
   "cell_type": "markdown",
   "metadata": {},
   "source": [
    "You can check the number of class in the `label` and the `prediction`"
   ]
  },
  {
   "cell_type": "code",
   "execution_count": 48,
   "metadata": {},
   "outputs": [
    {
     "name": "stdout",
     "output_type": "stream",
     "text": [
      "+-----+------------+\n",
      "|label|count(label)|\n",
      "+-----+------------+\n",
      "|  0.0|        5021|\n",
      "|  1.0|        1578|\n",
      "+-----+------------+\n",
      "\n"
     ]
    }
   ],
   "source": [
    "cm.groupby('label').agg({'label': 'count'}).show()\n"
   ]
  },
  {
   "cell_type": "code",
   "execution_count": 49,
   "metadata": {},
   "outputs": [
    {
     "name": "stdout",
     "output_type": "stream",
     "text": [
      "+----------+-----------------+\n",
      "|prediction|count(prediction)|\n",
      "+----------+-----------------+\n",
      "|       0.0|             5982|\n",
      "|       1.0|              617|\n",
      "+----------+-----------------+\n",
      "\n"
     ]
    }
   ],
   "source": [
    "cm.groupby('prediction').agg({'prediction': 'count'}).show()\n"
   ]
  },
  {
   "cell_type": "markdown",
   "metadata": {},
   "source": [
    "For instance, in the test set, there is 1578 household with an income\n",
    "above 50k and 5021 below. The classifier, however, predicted 617\n",
    "households with income above 50k.\n",
    "\n",
    "You can compute the accuracy by computing the count when the label are\n",
    "correctly classified over the total number of rows."
   ]
  },
  {
   "cell_type": "code",
   "execution_count": 50,
   "metadata": {},
   "outputs": [
    {
     "data": {
      "text/plain": [
       "0.8237611759357478"
      ]
     },
     "execution_count": 50,
     "metadata": {},
     "output_type": "execute_result"
    }
   ],
   "source": [
    "cm.filter(cm.label == cm.prediction).count() / cm.count()\n"
   ]
  },
  {
   "cell_type": "markdown",
   "metadata": {},
   "source": [
    "​    \n",
    "\n",
    "You can wrap everything together and write a function to compute the\n",
    "accuracy."
   ]
  },
  {
   "cell_type": "code",
   "execution_count": 51,
   "metadata": {},
   "outputs": [
    {
     "name": "stdout",
     "output_type": "stream",
     "text": [
      "Model accuracy: 82.376%\n"
     ]
    }
   ],
   "source": [
    "def accuracy_m(model): \n",
    "    predictions = model.transform(test_data)\n",
    "    cm = predictions.select(\"label\", \"prediction\")\n",
    "    acc = cm.filter(cm.label == cm.prediction).count() / cm.count()\n",
    "    print(\"Model accuracy: %.3f%%\" % (acc * 100)) \n",
    "\n",
    "accuracy_m(model = linearModel)\n"
   ]
  },
  {
   "cell_type": "markdown",
   "metadata": {},
   "source": [
    "**ROC metrics**\n",
    "\n",
    "The module `BinaryClassificationEvaluator` includes the ROC measures.\n",
    "The Receiver Operating Characteristic curve is another common tool used\n",
    "with binary classification. It is very similar to the precision/recall\n",
    "curve, but instead of plotting precision versus recall, the ROC curve\n",
    "shows the true positive rate (i.e. recall) against the false positive\n",
    "rate. The false positive rate is the ratio of negative instances that\n",
    "are incorrectly classified as positive. It is equal to one minus the\n",
    "true negative rate. The true negative rate is also called specificity.\n",
    "Hence the ROC curve plots sensitivity (recall) versus 1 - specificity"
   ]
  },
  {
   "cell_type": "code",
   "execution_count": 52,
   "metadata": {},
   "outputs": [
    {
     "name": "stdout",
     "output_type": "stream",
     "text": [
      "0.8940481662695192\n",
      "areaUnderROC\n",
      "0.8940481662695192\n"
     ]
    }
   ],
   "source": [
    "### Use ROC \n",
    "from pyspark.ml.evaluation import BinaryClassificationEvaluator\n",
    "\n",
    "# Evaluate model\n",
    "evaluator = BinaryClassificationEvaluator(rawPredictionCol=\"rawPrediction\")\n",
    "print(evaluator.evaluate(predictions))\n",
    "print(evaluator.getMetricName())\n",
    "\n",
    "print(evaluator.evaluate(predictions))\n"
   ]
  },
  {
   "cell_type": "markdown",
   "metadata": {},
   "source": [
    "**Step 6**: Tune the hyperparameter\n",
    "\n",
    "\n",
    "Last but not least, you can tune the hyperparameters. Similar to scikit\n",
    "learn you create a parameter grid, and you add the parameters you want\n",
    "to tune. To reduce the time of the computation, you only tune the\n",
    "regularization parameter with only two values."
   ]
  },
  {
   "cell_type": "code",
   "execution_count": 53,
   "metadata": {},
   "outputs": [],
   "source": [
    "from pyspark.ml.tuning import ParamGridBuilder, CrossValidator\n",
    "\n",
    "# Create ParamGrid for Cross Validation\n",
    "paramGrid = (ParamGridBuilder()\n",
    "             .addGrid(lr.regParam, [0.01, 0.5])\n",
    "             .build())"
   ]
  },
  {
   "cell_type": "markdown",
   "metadata": {},
   "source": [
    "Finally, you evaluate the model with using the cross valiation method\n",
    "with 5 folds. It takes around 16 minutes to train."
   ]
  },
  {
   "cell_type": "code",
   "execution_count": 54,
   "metadata": {},
   "outputs": [
    {
     "name": "stdout",
     "output_type": "stream",
     "text": [
      "Time to train model: 641.470 seconds\n"
     ]
    }
   ],
   "source": [
    "from time import *\n",
    "start_time = time()\n",
    "\n",
    "# Create 5-fold CrossValidator\n",
    "cv = CrossValidator(estimator=lr,\n",
    "                    estimatorParamMaps=paramGrid,\n",
    "                    evaluator=evaluator, numFolds=5)\n",
    "\n",
    "# Run cross validations\n",
    "cvModel = cv.fit(train_data)\n",
    "# likely take a fair amount of time\n",
    "end_time = time()\n",
    "elapsed_time = end_time - start_time\n",
    "print(\"Time to train model: %.3f seconds\" % elapsed_time)\n"
   ]
  },
  {
   "cell_type": "markdown",
   "metadata": {},
   "source": [
    "The best regularization hyperparameter is 0.01, with an accuracy of\n",
    "85.316 percent."
   ]
  },
  {
   "cell_type": "code",
   "execution_count": 55,
   "metadata": {},
   "outputs": [
    {
     "name": "stdout",
     "output_type": "stream",
     "text": [
      "Model accuracy: 85.316%\n"
     ]
    }
   ],
   "source": [
    "accuracy_m(model = cvModel)"
   ]
  },
  {
   "cell_type": "markdown",
   "metadata": {},
   "source": [
    "You can exctract the recommended parameter by chaining\n",
    "`cvModel.bestModel` with `extractParamMap()`"
   ]
  },
  {
   "cell_type": "code",
   "execution_count": 56,
   "metadata": {},
   "outputs": [],
   "source": [
    "bestModel = cvModel.bestModel"
   ]
  },
  {
   "cell_type": "markdown",
   "metadata": {},
   "source": [
    "## Summary\n",
    "\n",
    "Spark is a fundamental tool for a data scientist. It allows the\n",
    "practitioner to connect an app to different data sources, perform data\n",
    "analysis seamlessly or add a predictive model.\n",
    "\n",
    "To begin with Spark, you need to initiate a Spark Context with:\n",
    "\n",
    "`SparkContext()`\n",
    "\n",
    "and and SQL context to connect to a data source:\n",
    "\n",
    "`SQLContext()`\n",
    "\n",
    "In the tutorial, you learn how to train a logistic regression:\n",
    "\n",
    "1.  Convert the dataset to a Dataframe with:\n",
    "\n",
    "`rdd.map(lambda x: (x[\"newlabel\"], DenseVector(x[\"features\"])))`\n",
    "\n",
    "`sqlContext.createDataFrame(input_data, [\"label\", \"features\"])`\n",
    "\n",
    "Note that the label's column name is `newlabel` and all the features are\n",
    "gather in `features`. Change these values if different in your dataset.\n",
    "\n",
    "2.  Create the train/test set\n",
    "\n",
    "`randomSplit([.8,.2],seed=1234)`\n",
    "\n",
    "3.  Train the model"
   ]
  },
  {
   "cell_type": "markdown",
   "metadata": {},
   "source": [
    "`LogisticRegression(labelCol=\"label\",featuresCol=\"features\",maxIter=10,\n",
    "regParam=0.3)\n",
    "lr.fit()`"
   ]
  },
  {
   "cell_type": "markdown",
   "metadata": {},
   "source": [
    "4.  Make prediction"
   ]
  },
  {
   "cell_type": "markdown",
   "metadata": {},
   "source": [
    "`linearModel.transform()`"
   ]
  }
 ],
 "metadata": {
  "kernelspec": {
   "display_name": "Python 3",
   "language": "python",
   "name": "python3"
  },
  "language_info": {
   "codemirror_mode": {
    "name": "ipython",
    "version": 3
   },
   "file_extension": ".py",
   "mimetype": "text/x-python",
   "name": "python",
   "nbconvert_exporter": "python",
   "pygments_lexer": "ipython3",
   "version": "3.6.3"
  }
 },
 "nbformat": 4,
 "nbformat_minor": 2
}
