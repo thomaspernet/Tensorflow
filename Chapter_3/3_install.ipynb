{
 "cells": [
  {
   "attachments": {},
   "cell_type": "markdown",
   "metadata": {},
   "source": [
    "# How to Download and Install TensorFlow Windows and Mac \n",
    "\n",
    "In this tutorial, we will explain how to install **TensorFlow** with\n",
    "**Anaconda**. You will learn how to use TensorFlow with Jupyter. Jupyter\n",
    "is a notebook viewer.\n",
    "\n",
    "## TensorFlow Versions\n",
    "\n",
    "TensorFlow supports computations across multiple CPUs and GPUs. It means\n",
    "that the computations can be distributed across devices to improve the\n",
    "speed of the training. With parallelization, you don't need to wait for\n",
    "weeks to obtain the results of training algorithms.\n",
    "\n",
    "For Windows user, TensorFlow provides two versions:\n",
    "\n",
    "-   **TensorFlow with CPU support only**: If your Machine does not run\n",
    "    on NVIDIA GPU, you can only install this version\n",
    "\n",
    "-   **TensorFlow with GPU support**: For faster computation, you can use\n",
    "    this version of TensorFlow. This version makes sense only if you\n",
    "    need strong computational capacity.\n",
    "\n",
    "During this tutorial, the basic version of TensorFlow is sufficient.\n",
    "\n",
    "**Note:** TensorFlow does not provides GPU support on MacOS.\n",
    "\n",
    "Here is how to proceed\n",
    "\n",
    "MacOS User:\n",
    "\n",
    "-   Install Anaconda\n",
    "\n",
    "-   Create a `.yml` file to install Tensorflow and dependencies\n",
    "\n",
    "-   Launch Jupyter Notebook\n",
    "\n",
    "For Windows\n",
    "\n",
    "-   Install Anaconda\n",
    "\n",
    "-   Create a `.yml` file to install dependencies\n",
    "\n",
    "-   Use pip to add TensorFlow\n",
    "\n",
    "-   Launch Jupyter Notebook\n",
    "\n",
    "To run Tensorflow with Jupyter, you need to create an environment within\n",
    "Anaconda. It means you will install Ipython, Jupyter, and TensorFlow in\n",
    "an appropriate folder inside our machine. On top of this, you will add\n",
    "one essential library for data science: \"Pandas\". The Pandas library\n",
    "helps to manipulate a data frame.\n",
    "\n",
    "## Install Anaconda \n",
    "\n",
    "Download [Anaconda](https://www.anaconda.com/download/) version 4.3.1 (for Python 3.6) for the appropriate system.\n",
    "\n",
    "Anaconda will help you to manage all the libraries required either for\n",
    "Python or R. \n",
    "\n",
    "## Create .yml file to install Tensorflow and dependencies\n",
    "\n",
    "It includes\n",
    "\n",
    "-   Locate the path of Anaconda\n",
    "\n",
    "-   Set the working directory to Anaconda\n",
    "\n",
    "-   Create the `yml` file (For MacOS user, TensorFlow is installed here)\n",
    "\n",
    "-   Edit the `yml` file\n",
    "\n",
    "-   Compile the `yml` file\n",
    "\n",
    "-   Activate Anaconda\n",
    "\n",
    "-   Install TensorFlow (Windows user only)\n",
    "\n",
    "**Step 1)** Locate Anaconda\n",
    "\n",
    "The first step you need to do is to locate the path of Anaconda. You\n",
    "will create a new conda environment that includes the necessaries\n",
    "libraries you will use during the tutorials about TensorFlow.\n",
    "\n",
    "**Windows**\n",
    "\n",
    "If you are a Windows user, you can use *Anaconda Prompt* and type:\n",
    "\n",
    "```\n",
    "C:\\>where anaconda\n",
    "```\n",
    "\n",
    "<img src=\"image/image001.png\" >\n",
    "\n",
    "\n",
    "We are interested to know the name of the folder where Anaconda is\n",
    "installed because we want to create our new environment inside this\n",
    "path. For instance, in the picture above, Anaconda is installed in the\n",
    "`Admin` folder. For you, it can the same, i.e. `Admin` or the user's\n",
    "name.\n",
    "\n",
    "In the next, we will set the working directory from `c:\\` to\n",
    "`Anaconda3`.\n",
    "\n",
    "**MacOS**\n",
    "\n",
    "for MacOS user, you can use the Terminal and type:\n"
   ]
  },
  {
   "cell_type": "code",
   "execution_count": null,
   "metadata": {},
   "outputs": [],
   "source": [
    "which anaconda"
   ]
  },
  {
   "cell_type": "markdown",
   "metadata": {},
   "source": [
    "<img src=\"image/image002.png\" >\n",
    "\n",
    "You will need to create a new folder inside Anaconda which will contains\n",
    "**Ipython**, **Jupyter** and **TensorFlow**. A quick way to install\n",
    "libraries and software is to write a `yml` file.\n",
    "\n",
    "**Step 2)** Set working directory\n",
    "\n",
    "You need to specify the working directory where you want to create the\n",
    "`yml` file. As said before, it will be located inside Anaconda.\n",
    "\n",
    "**For MacOS user:**\n",
    "\n",
    "The Terminal sets the default working directory to **Users/USERNAME**.\n",
    "As you can see in the figure below, the path of *anaconda3* and the\n",
    "working directory are identical. In MacOS, the latest folder is shown\n",
    "before the \\$. The Terminal will install all the libraries in this\n",
    "working directory.\n",
    "\n",
    "If the path on the text editor does not match the working directory, you\n",
    "can change it by writing `cd PATH` in the Terminal. PATH is the path you\n",
    "pasted in the text editor. Don't forget to wrap the PATH with 'PATH'.\n",
    "This action will change the working directory to PATH.\n",
    "\n",
    "![image003](/Users/Thomas/Dropbox/Learning/Upwork/tuto_TF/image/image003.png)\n",
    "\n",
    "Open your Terminal, and type:"
   ]
  },
  {
   "cell_type": "code",
   "execution_count": null,
   "metadata": {},
   "outputs": [],
   "source": [
    "cd anaconda3"
   ]
  },
  {
   "cell_type": "markdown",
   "metadata": {},
   "source": [
    "For Windows user (make sure of the folder before Anaconda3):"
   ]
  },
  {
   "cell_type": "code",
   "execution_count": null,
   "metadata": {},
   "outputs": [],
   "source": [
    "cd C:\\Users\\Admin\\Anaconda3"
   ]
  },
  {
   "cell_type": "markdown",
   "metadata": {},
   "source": [
    "or the path \"where anaconda\" command gives you\n",
    "\n",
    "![image004](/Users/Thomas/Dropbox/Learning/Upwork/tuto_TF/image/image004.png)\n",
    "\n",
    "**Step 3)** Create the `yml` file\n",
    "\n",
    "You can create the `yml` file inside the new working directory. The file\n",
    "will install the dependencies you need to run TensorFlow. Copy and paste\n",
    "this code into the Terminal.\n",
    "\n",
    "**For MacOS user:**"
   ]
  },
  {
   "cell_type": "code",
   "execution_count": null,
   "metadata": {},
   "outputs": [],
   "source": [
    "touch hello-tf.yml"
   ]
  },
  {
   "cell_type": "markdown",
   "metadata": {},
   "source": [
    "A new file named `hello-tf.yml` should appear inside *anaconda3*\n",
    "\n",
    "![image005](/Users/Thomas/Dropbox/Learning/Upwork/tuto_TF/image/image005.png)\n",
    "\n",
    "**For Windows user:**"
   ]
  },
  {
   "cell_type": "code",
   "execution_count": null,
   "metadata": {},
   "outputs": [],
   "source": [
    "echo.>hello-tf.yml"
   ]
  },
  {
   "cell_type": "markdown",
   "metadata": {},
   "source": [
    "A new file named `hello-tf.yml` should appear\n",
    "\n",
    "![image006](/Users/Thomas/Dropbox/Learning/Upwork/tuto_TF/image/image006.png)\n",
    "\n",
    "**Step 4)** Edit the `yml` file\n",
    "\n",
    "**For MacOS user:**\n",
    "\n",
    "You are ready to edit the `yml` file. You can paste the following code\n",
    "in the Terminal to edit the file. MacOS user can use **vim** to edit the\n",
    "`yml` file."
   ]
  },
  {
   "cell_type": "code",
   "execution_count": null,
   "metadata": {},
   "outputs": [],
   "source": [
    "vi hello-tf.yml"
   ]
  },
  {
   "cell_type": "markdown",
   "metadata": {},
   "source": [
    "So far, your Terminal looks like this\n",
    "\n",
    "![image007](/Users/Thomas/Dropbox/Learning/Upwork/tuto_TF/image/image007.png)\n",
    "\n",
    "You enter an **edit** mode. Inside this mode, you can, after pressing\n",
    "`esc`:\n",
    "\n",
    "-   Press `i` to edit\n",
    "\n",
    "-   Press `w` to save\n",
    "\n",
    "-   Press `q!` to quit\n",
    "\n",
    "Write the following code in the edit mode and press `esc` followed by\n",
    "`:w`\n",
    "\n",
    "![image008](/Users/Thomas/Dropbox/Learning/Upwork/tuto_TF/image/image008.png)\n",
    "\n",
    "**Note:** The file is case **and** intend sensitive. 2 spaces are\n",
    "required after each intend.\n",
    "\n",
    "For MacOS"
   ]
  },
  {
   "cell_type": "code",
   "execution_count": null,
   "metadata": {},
   "outputs": [],
   "source": [
    "name: hello-tf\n",
    "dependencies:\n",
    "\n",
    "  - python=3.6\n",
    "  - jupyter\n",
    "  - ipython\n",
    "  - pandas\n",
    "  - pip:\n",
    "      - https://storage.googleapis.com/tensorflow/mac/cpu/tensorflow-1.9.0-py3-none-any.whl"
   ]
  },
  {
   "cell_type": "markdown",
   "metadata": {},
   "source": [
    "Code Explanation\n",
    "\n",
    "-   `name: hello-tf`: Name of the yml file\n",
    "\n",
    "-   `dependencies`:\n",
    "\n",
    "-   `python=3.6`\n",
    "\n",
    "-   `jupyter`\n",
    "\n",
    "-   `ipython`\n",
    "\n",
    "-   `pandas`: Install Python version 3.6, Jupyter, Ipython,and pandas\n",
    "    libraries\n",
    "\n",
    "-   `pip:` Install a Python library"
   ]
  },
  {
   "cell_type": "code",
   "execution_count": null,
   "metadata": {},
   "outputs": [],
   "source": [
    "-   `https://storage.googleapis.com/tensorflow/mac/cpu/tensorflow-1.9.0-py3-none-any.whl`: Install TensorFlow from Google apis."
   ]
  },
  {
   "cell_type": "markdown",
   "metadata": {},
   "source": [
    "Press `esc` followed by `:q!` to quite the edit mode.\n",
    "\n",
    "![image009](/Users/Thomas/Dropbox/Learning/Upwork/tuto_TF/image/image009.png)\n",
    "\n",
    "**For Windows User:**\n",
    "\n",
    "Windows does not have vim program, so the Notepad is enough to complete\n",
    "this step."
   ]
  },
  {
   "cell_type": "code",
   "execution_count": null,
   "metadata": {},
   "outputs": [],
   "source": [
    "notepad hello-tf.yml"
   ]
  },
  {
   "cell_type": "markdown",
   "metadata": {},
   "source": [
    "Enter following into the file"
   ]
  },
  {
   "cell_type": "code",
   "execution_count": null,
   "metadata": {},
   "outputs": [],
   "source": [
    "name: hello-tf\n",
    "dependencies:\n",
    "  - python=3.6\n",
    "  - jupyter\n",
    "  - ipython\n",
    "  - pandas"
   ]
  },
  {
   "cell_type": "markdown",
   "metadata": {},
   "source": [
    "Code Explanation\n",
    "\n",
    "-   `name: hello-tf`: Name of the yml file\n",
    "\n",
    "-   `dependencies:`\n",
    "\n",
    "-   `python=3.6`\n",
    "\n",
    "-   `jupyter`\n",
    "\n",
    "-   `ipython`\n",
    "\n",
    "-   `pandas`: Install Python version 3.6, Jupyter, Ipython,and pandas\n",
    "    libraries\n",
    "\n",
    "It will open the notepad, you can edit the file from here.\n",
    "\n",
    "![image010](/Users/Thomas/Dropbox/Learning/Upwork/tuto_TF/image/image010.png)\n",
    "\n",
    "**Note:** Windows users will install TensorFlow in the next step. In\n",
    "this step, you only prepare the conda environment\n",
    "\n",
    "**Step 5)** Compile the `yml` file\n",
    "\n",
    "You can compile the .yml file with the following code :"
   ]
  },
  {
   "cell_type": "code",
   "execution_count": null,
   "metadata": {},
   "outputs": [],
   "source": [
    "conda env create -f hello-tf.yml"
   ]
  },
  {
   "cell_type": "markdown",
   "metadata": {},
   "source": [
    "**Note:** For Windows users, the new environment is created inside the\n",
    "current user directory.\n",
    "\n",
    "It takes times. It will take around 1.1gb of space in your hard disk.\n",
    "\n",
    "![image011](/Users/Thomas/Dropbox/Learning/Upwork/tuto_TF/image/image011.png)\n",
    "\n",
    "In Windows\n",
    "\n",
    "![image012](/Users/Thomas/Dropbox/Learning/Upwork/tuto_TF/image/image012.png)\n",
    "\n",
    "**Step 6)** Activate conda environment\n",
    "\n",
    "We are almost done. You have now 2 conda environments. You created an\n",
    "isolated conda environment with the libraries you will use during the\n",
    "tutorials. This is a recommended practice because each machine learning\n",
    "project requires different libraries. When the project is over, you can\n",
    "remove or not this environment."
   ]
  },
  {
   "cell_type": "code",
   "execution_count": null,
   "metadata": {},
   "outputs": [],
   "source": [
    "conda env list"
   ]
  },
  {
   "cell_type": "markdown",
   "metadata": {},
   "source": [
    "![image013](/Users/Thomas/Dropbox/Learning/Upwork/tuto_TF/image/image013.png)\n",
    "\n",
    "The asterix indicates the default one. You need to switch to\n",
    "`hello-tf` to activate the environment\n",
    "\n",
    "For MacOS user:"
   ]
  },
  {
   "cell_type": "code",
   "execution_count": null,
   "metadata": {},
   "outputs": [],
   "source": [
    "source activate hello-tf"
   ]
  },
  {
   "cell_type": "markdown",
   "metadata": {},
   "source": [
    "For Windows user:"
   ]
  },
  {
   "cell_type": "code",
   "execution_count": null,
   "metadata": {},
   "outputs": [],
   "source": [
    "activate hello-tf"
   ]
  },
  {
   "cell_type": "markdown",
   "metadata": {},
   "source": [
    "![image014](/Users/Thomas/Dropbox/Learning/Upwork/tuto_TF/image/image014.png)\n",
    "\n",
    "You can check all dependencies are in the same environment. This is\n",
    "important because it allows Python to use Jupyter and TensorFlow from\n",
    "the same environment. If you don't see the three of them located in the\n",
    "same folder, you need to start all over again.\n",
    "\n",
    "For MacOS user:"
   ]
  },
  {
   "cell_type": "code",
   "execution_count": null,
   "metadata": {},
   "outputs": [],
   "source": [
    "which python\n",
    "which jupyter\n",
    "which ipython"
   ]
  },
  {
   "cell_type": "markdown",
   "metadata": {},
   "source": [
    "![image015](/Users/Thomas/Dropbox/Learning/Upwork/tuto_TF/image/image015.png)\n",
    "\n",
    "**Optional:** You can check for update."
   ]
  },
  {
   "cell_type": "code",
   "execution_count": null,
   "metadata": {},
   "outputs": [],
   "source": [
    "pip install --upgrade tensorflow"
   ]
  },
  {
   "cell_type": "markdown",
   "metadata": {},
   "source": [
    "**Step 7)** For Windows user only: Install TensorFlow\n",
    "\n",
    "For windows user:"
   ]
  },
  {
   "cell_type": "code",
   "execution_count": null,
   "metadata": {},
   "outputs": [],
   "source": [
    "where python\n",
    "where jupyter\n",
    "where ipython"
   ]
  },
  {
   "cell_type": "markdown",
   "metadata": {},
   "source": [
    "![image016](/Users/Thomas/Dropbox/Learning/Upwork/tuto_TF/image/image016.png)\n",
    "\n",
    "As you can see, you now have two Python environments. The main one and\n",
    "the newly created on i.e. `hello-tf`. The main conda environment does\n",
    "not have tensorFlow installed only `hello-tf`. From the picture,\n",
    "python, jupyter and ipython are installed in the same environment. It\n",
    "means, you can use TensorFlow with a Jupyter Notebook.\n",
    "\n",
    "You need to install Tensorflow with the following command. Only for\n",
    "Windows user"
   ]
  },
  {
   "cell_type": "code",
   "execution_count": null,
   "metadata": {},
   "outputs": [],
   "source": [
    "pip install tensorflow"
   ]
  },
  {
   "cell_type": "markdown",
   "metadata": {},
   "source": [
    "![image017](/Users/Thomas/Dropbox/Learning/Upwork/tuto_TF/image/image017.png)\n",
    "\n",
    "## Launch Jupyter Notebook\n",
    "\n",
    "This part is the same for both OS.\n",
    "\n",
    "You can open TensorFlow with Jupyter.\n",
    "\n",
    "**Note:** Each time you want to open TensorFlow, you need to initialize\n",
    "the environment\n",
    "\n",
    "You will proceed as follow:\n",
    "\n",
    "-   Activate `hello-tf` conda environment\n",
    "\n",
    "-   Open Jupyter\n",
    "\n",
    "-   Import tensorflow\n",
    "\n",
    "-   Delete Notebook\n",
    "\n",
    "-   Close Jupyter\n",
    "\n",
    "**Step 1)** Activate conda\n",
    "\n",
    "For MacOS user:"
   ]
  },
  {
   "cell_type": "code",
   "execution_count": null,
   "metadata": {},
   "outputs": [],
   "source": [
    "source activate hello-tf"
   ]
  },
  {
   "cell_type": "markdown",
   "metadata": {},
   "source": [
    "For Windows user:"
   ]
  },
  {
   "cell_type": "code",
   "execution_count": null,
   "metadata": {},
   "outputs": [],
   "source": [
    "conda activate hello-tf"
   ]
  },
  {
   "cell_type": "markdown",
   "metadata": {},
   "source": [
    "![image018](/Users/Thomas/Dropbox/Learning/Upwork/tuto_TF/image/image018.png)\n",
    "\n",
    "**Step 2)** Open Jupyter\n",
    "\n",
    "After that, you can open Jupyter from the Terminal"
   ]
  },
  {
   "cell_type": "code",
   "execution_count": null,
   "metadata": {},
   "outputs": [],
   "source": [
    "jupyter notebook"
   ]
  },
  {
   "cell_type": "markdown",
   "metadata": {},
   "source": [
    "![image019](/Users/Thomas/Dropbox/Learning/Upwork/tuto_TF/image/image019.png)\n",
    "\n",
    "Your browser should open automatically, otherwise copy and paste the url\n",
    "provided by the Terminal. It starts by `http://localhost:8888`\n",
    "\n",
    "Inside the Jupyter Notebook, you can see all the files inside the\n",
    "working directory. To create a new Notebook, you simply click on **new**\n",
    "and **Python 3**\n",
    "\n",
    "**Note:** The new notebook is automatically saved inside the working\n",
    "directory.\n",
    "\n",
    "![image020](/Users/Thomas/Dropbox/Learning/Upwork/tuto_TF/image/image020.png)\n",
    "\n",
    "**Step 3)** Import Tensorflow\n",
    "\n",
    "Inside the notebook, you can import TensorFlow with the `tf` alias.\n",
    "Click to run. A new cell is created below."
   ]
  },
  {
   "cell_type": "code",
   "execution_count": null,
   "metadata": {},
   "outputs": [],
   "source": [
    "import tensorflow as tf"
   ]
  },
  {
   "cell_type": "markdown",
   "metadata": {},
   "source": [
    "![image021](/Users/Thomas/Dropbox/Learning/Upwork/tuto_TF/image/image021.png)\n",
    "\n",
    "Let's write your first code with TensorFlow."
   ]
  },
  {
   "cell_type": "code",
   "execution_count": null,
   "metadata": {},
   "outputs": [],
   "source": [
    "hello = tf.constant('Hello world!')\n",
    "hello"
   ]
  },
  {
   "cell_type": "markdown",
   "metadata": {},
   "source": [
    "A new tensor is created. Congratulation. You successfully install\n",
    "TensorFlow with Jupyter on your Machine.\n",
    "\n",
    "![image022](/Users/Thomas/Dropbox/Learning/Upwork/tuto_TF/image/image022.png)\n",
    "\n",
    "**Step 4)** Delete file\n",
    "\n",
    "You can delete the file named `Untitled.ipynb` inside Jupyer.\n",
    "\n",
    "![image023](/Users/Thomas/Dropbox/Learning/Upwork/tuto_TF/image/image023.png)\n",
    "\n",
    "\n",
    "\n",
    "**Step 5)** Close Jupyter\n",
    "\n",
    "There are two ways of closing Jupyter. The first way is directly from\n",
    "the notebook. The second way is by using the terminal (or Anaconda\n",
    "Prompt)\n",
    "\n",
    "**From Jupyter**\n",
    "\n",
    "In the main panel of Jupyter Notebook, simply click on **Logout**\n",
    "\n",
    "![image024](/Users/Thomas/Dropbox/Learning/Upwork/tuto_TF/image/image024.png)\n",
    "\n",
    "You are redirected to the log out page.\n",
    "\n",
    "![image025](/Users/Thomas/Dropbox/Learning/Upwork/tuto_TF/image/image025.png)\n",
    "\n",
    "**From the terminal**\n",
    "\n",
    "Select the *terminal* or *Anaconda prompt* and run twice `ctr+c`.\n",
    "\n",
    "The first time you do `ctr+c`, you are asked to confirm you want to shut\n",
    "down the notebook. Repeat `ctr+c` to confirm\n",
    "\n",
    "![image026](/Users/Thomas/Dropbox/Learning/Upwork/tuto_TF/image/image026.png)\n",
    "\n",
    "![image027](/Users/Thomas/Dropbox/Learning/Upwork/tuto_TF/image/image027.png)\n",
    "\n",
    "You have successfully logged out.\n",
    "\n",
    "## Jupyter with the main conda environment\n",
    "\n",
    "If you want to launch TensorFlow with jupyter for future use, you need\n",
    "to open a new session with"
   ]
  },
  {
   "cell_type": "code",
   "execution_count": null,
   "metadata": {},
   "outputs": [],
   "source": [
    "source activate hello-tf"
   ]
  },
  {
   "cell_type": "markdown",
   "metadata": {},
   "source": [
    "If you don't, Jupyter will not find TensorFlow\n",
    "\n",
    "![image028](/Users/Thomas/Dropbox/Learning/Upwork/tuto_TF/image/image028.png)"
   ]
  }
 ],
 "metadata": {
  "kernelspec": {
   "display_name": "Python 3",
   "language": "python",
   "name": "python3"
  },
  "language_info": {
   "codemirror_mode": {
    "name": "ipython",
    "version": 3
   },
   "file_extension": ".py",
   "mimetype": "text/x-python",
   "name": "python",
   "nbconvert_exporter": "python",
   "pygments_lexer": "ipython3",
   "version": "3.6.5"
  }
 },
 "nbformat": 4,
 "nbformat_minor": 2
}
