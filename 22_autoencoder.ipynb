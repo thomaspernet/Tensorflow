{
 "cells": [
  {
   "cell_type": "markdown",
   "metadata": {},
   "source": [
    "# What is an Autoencoder?\n",
    "\n",
    "An autoencoder is a great tool to recreate an input. In a simple word,\n",
    "the machine takes, let's say an image, and can produce a closely related\n",
    "picture. The input in this kind of neural network is unlabelled, meaning\n",
    "the network is capable of learning without supervision. More precisely,\n",
    "the input is encoded by the network to focus only on the most critical\n",
    "feature. This is one of the reasons why autoencoder is popular for\n",
    "dimensionality reduction. Besides, autoencoders can be used to produce\n",
    "**generative learning models**. For example, the neural network can be\n",
    "trained with a set of faces and then can produce new faces.\n",
    "\n",
    "In this tutorial, you will learn what an autoencoder is and how to build\n",
    "such type of network with Tensorflow to reconstruct an image.\n",
    "\n",
    "## How does it work?\n",
    "\n",
    "The purpose of an autoencoder is to produce an approximation of the\n",
    "input by focusing only on the essential features. You may think why not\n",
    "merely learn how to copy and paste the input to produce the output. In\n",
    "fact, an autoencoder is a set of constraints that force the network to\n",
    "learn new ways to represent the data, different from merely copying the\n",
    "output.\n",
    "\n",
    "A typical autoencoder is defined with an input, an internal\n",
    "representation and an output (an approximation of the input). The\n",
    "learning occurs in the layers attached to the internal representation.\n",
    "In fact, there are two main blocks of layers which looks like a\n",
    "traditional neural network. The slight difference is the layer\n",
    "containing the output must be equal to the input. In the picture below,\n",
    "the original input goes into the first block called the **encoder**.\n",
    "This internal representation compresses (reduces) the size of the input.\n",
    "In the second block occurs the reconstruction of the input. This is the\n",
    "decoding phase.\n",
    "\n",
    "![](https://github.com/thomaspernet/Tensorflow/blob/master/tensorflow/22_autoencoder_v4_files/image001.png)\n",
    "\n",
    "The model will update the weights by minimizing the loss function. The\n",
    "model is penalized if the reconstruction output is different from the\n",
    "input.\n",
    "\n",
    "Concretely, imagine a picture with a size of 50x50 (i.e., 250 pixels)\n",
    "and a neural network with just one hidden layer composed of one hundred\n",
    "neurons. The learning is done on a feature map which is two times\n",
    "smaller than the input. It means the network needs to find a way to\n",
    "reconstruct 250 pixels with only a vector of neurons equal to 100.\n",
    "\n",
    "## Stacked Autoencoder Example\n",
    "\n",
    "In this tutorial, you will learn how to use a stacked autoencoder. The\n",
    "architecture is similar to a traditional neural network. The input goes\n",
    "to a hidden layer in order to be *compressed*, or reduce its size, and\n",
    "then reaches the reconstruction layers. The objective is to produce an\n",
    "output image as close as the original. The model has to learn a way to\n",
    "achieve its task under a set of constraints, that is, with a lower\n",
    "dimension.\n",
    "\n",
    "Nowadays, autoencoders are mainly used to denoise an image. Imagine an\n",
    "image with scratches; a human is still able to recognize the content.\n",
    "The idea of denoising autoencoder is to add noise to the picture to\n",
    "force the network to learn the pattern behind the data.\n",
    "\n",
    "The other useful family of autoencoder is variational autoencoder. This\n",
    "type of network can generate new images. Imagine you train a network\n",
    "with the image of a man; such a network can produce new faces.\n",
    "\n",
    "## Build an Autoencoder with TensorFlow\n",
    "\n",
    "In this tutorial, you will learn how to build a stacked autoencoder to\n",
    "reconstruct an image.\n",
    "\n",
    "You will use the [CIFAR-10\n",
    "dataset](https://www.cs.toronto.edu/~kriz/cifar.html) which contains\n",
    "60000 32x32 color images. The dataset is already split between 50000\n",
    "images for training and 10000 for testing. There are up to ten classes:\n",
    "\n",
    "-   Airplane\n",
    "\n",
    "-   Automobile\n",
    "\n",
    "-   Bird\n",
    "\n",
    "-   Cat\n",
    "\n",
    "-   Deer\n",
    "\n",
    "-   Dog\n",
    "\n",
    "-   Frog\n",
    "\n",
    "-   Horse\n",
    "\n",
    "-   Ship\n",
    "\n",
    "-   Truck\n",
    "\n",
    "You need download the images in this [URL](https://www.cs.toronto.edu/\\~kriz/cifar.html) and unzip it. The folder\n",
    "*for-10-batches-py* contains five batches of data with 10000 images each\n",
    "in a random order.\n",
    "\n",
    "Before you build and train your model, you need to apply some data\n",
    "processing. You will proceed as follow:\n",
    "\n",
    "1.  Import the data\n",
    "\n",
    "2.  Convert the data to black and white format\n",
    "\n",
    "3.  Append all the batches\n",
    "\n",
    "4.  Construct the training dataset\n",
    "\n",
    "5.  Construct an image visualizer\n",
    "\n",
    "## Image preprocessing\n",
    "\n",
    "**Step 1:** Import the data.\n",
    "\n",
    "According to the official website, you can upload the data with the\n",
    "following code. The code will load the data in a dictionary with the\n",
    "**data** and the **label**. Note that the code is a function."
   ]
  },
  {
   "cell_type": "code",
   "execution_count": 1,
   "metadata": {},
   "outputs": [
    {
     "name": "stderr",
     "output_type": "stream",
     "text": [
      "/Users/Thomas/anaconda3/envs/hello-tf/lib/python3.6/importlib/_bootstrap.py:219: RuntimeWarning: compiletime version 3.5 of module 'tensorflow.python.framework.fast_tensor_util' does not match runtime version 3.6\n",
      "  return f(*args, **kwds)\n"
     ]
    }
   ],
   "source": [
    "import numpy as np\n",
    "import tensorflow as tf\n",
    "\n",
    "import pickle\n",
    "def unpickle(file):\n",
    "    import pickle\n",
    "    with open(file, 'rb') as fo:\n",
    "        dict = pickle.load(fo, encoding='latin1')\n",
    "    return dict"
   ]
  },
  {
   "cell_type": "markdown",
   "metadata": {},
   "source": [
    "**Step 2:** Convert the data to black and white format\n",
    "\n",
    "For simplicity, you will convert the data to a grayscale. That is, with\n",
    "only one dimension against three for colors image. Most of the neural\n",
    "network works only with one dimension input."
   ]
  },
  {
   "cell_type": "code",
   "execution_count": 2,
   "metadata": {},
   "outputs": [],
   "source": [
    "def grayscale(im):\n",
    "    return im.reshape(im.shape[0], 3, 32, 32).mean(1).reshape(im.shape[0], -1)"
   ]
  },
  {
   "cell_type": "markdown",
   "metadata": {},
   "source": [
    "**Step 3:** Append all the batches\n",
    "\n",
    "Now that both functions are created and the dataset loaded, you can\n",
    "write a loop to append the data in memory. If you check carefully, the\n",
    "unzip file with the data is named `data_batch_` with a number from 1 to\n",
    "5. You can loop over the files and append it to `data`.\n",
    "\n",
    "When this step is done, you convert the colours data to a gray scale\n",
    "format. As you can see, the shape of the data is 50000 and 1024. The\n",
    "32\\*32 pixels are now flatten to 2014."
   ]
  },
  {
   "cell_type": "code",
   "execution_count": 4,
   "metadata": {},
   "outputs": [
    {
     "name": "stdout",
     "output_type": "stream",
     "text": [
      "(50000, 1024)\n"
     ]
    }
   ],
   "source": [
    "# Load the data into memory\n",
    "data, labels = [], []\n",
    "## Loop over the b\n",
    "for i in range(1, 6):\n",
    "    filename = '/Users/Thomas/Downloads/cifar-10-batches-py/data_batch_' + str(i)\n",
    "    open_data = unpickle(filename)\n",
    "    if len(data) > 0:\n",
    "        data = np.vstack((data, open_data['data']))\n",
    "        labels = np.hstack((labels, open_data['labels']))\n",
    "    else:\n",
    "        data = open_data['data']\n",
    "        labels = open_data['labels']\n",
    "\n",
    "data = grayscale(data)\n",
    "x = np.matrix(data)\n",
    "y = np.array(labels)\n",
    "print(x.shape)"
   ]
  },
  {
   "cell_type": "markdown",
   "metadata": {},
   "source": [
    "**Step 4:** Construct the training dataset\n",
    "\n",
    "To make the training faster and easier, you will train a model on the\n",
    "horse images only. The horses are the seventh class in the label data.\n",
    "As mentioned in the documentation of the CIFAR-10 dataset, each class\n",
    "contains 5000 images. You can print the shape of the data to confirm\n",
    "there are 5.000 images with 1024 columns."
   ]
  },
  {
   "cell_type": "code",
   "execution_count": 5,
   "metadata": {},
   "outputs": [
    {
     "name": "stdout",
     "output_type": "stream",
     "text": [
      "(5000, 1024)\n"
     ]
    }
   ],
   "source": [
    "horse_i = np.where(y == 7)[0]\n",
    "horse_x = x[horse_i]\n",
    "print(np.shape(horse_x)) "
   ]
  },
  {
   "cell_type": "markdown",
   "metadata": {},
   "source": [
    "**Step 5:** Construct an image visualizer\n",
    "\n",
    "Finally, you construct a function to plot the images. You will need this\n",
    "function to print the reconstructed image from the autoencoder.\n",
    "\n",
    "An easy way to print images is to use the object `imshow` from the\n",
    "`matplotlib` library. Note that, you need to convert the shape of the\n",
    "data from 1024 to 32\\*32 (i.e. format of an image). *\\# To plot pretty\n",
    "figures*\\\n",
    "%matplotlib inline\\\n",
    "import matplotlib\\\n",
    "import matplotlib.pyplot as plt"
   ]
  },
  {
   "cell_type": "code",
   "execution_count": 6,
   "metadata": {},
   "outputs": [],
   "source": [
    "# To plot pretty figures\n",
    "%matplotlib inline\n",
    "import matplotlib\n",
    "import matplotlib.pyplot as plt"
   ]
  },
  {
   "cell_type": "code",
   "execution_count": 7,
   "metadata": {},
   "outputs": [],
   "source": [
    "def plot_image(image, shape=[32, 32], cmap = \"Greys_r\"):\n",
    "    plt.imshow(image.reshape(shape), cmap=cmap,interpolation=\"nearest\")\n",
    "    plt.axis(\"off\")   "
   ]
  },
  {
   "cell_type": "markdown",
   "metadata": {},
   "source": [
    "The function takes 3 arguments:\n",
    "\n",
    "-   Image:  the input\n",
    "-   Shape: list, the dimension of the image\n",
    "-   Cmap:choose the color map. By default, grey\n",
    "\n",
    "You can try to plot the first image in the dataset. You should see a man\n",
    "on a horse."
   ]
  },
  {
   "cell_type": "code",
   "execution_count": 8,
   "metadata": {},
   "outputs": [
    {
     "data": {
      "image/png": "[encoded data removed]",
      "text/plain": [
       "<Figure size 432x288 with 1 Axes>"
      ]
     },
     "metadata": {},
     "output_type": "display_data"
    }
   ],
   "source": [
    "plot_image(horse_x[1], shape=[32, 32], cmap = \"Greys_r\")"
   ]
  },
  {
   "cell_type": "markdown",
   "metadata": {},
   "source": [
    "![](https://github.com/thomaspernet/Tensorflow/blob/master/tensorflow/22_autoencoder_v4_files/image002.png)\n",
    "\n",
    "## Set Dataset Estimator\n",
    "\n",
    "All right, now that the dataset is ready to use, you can start to use\n",
    "Tensorflow. Before to build the model, let's use the `Dataset` estimator\n",
    "of Tensorflow to feed the network.\n",
    "\n",
    "You will build a `Dataset` with TensorFlow estimator. To refresh your\n",
    "mind, you need to use:\n",
    "\n",
    "-   `from_tensor_slices`\n",
    "\n",
    "-   `repeat`\n",
    "\n",
    "-   `batch`\n",
    "\n",
    "The full code to build the dataset is:"
   ]
  },
  {
   "cell_type": "code",
   "execution_count": 9,
   "metadata": {},
   "outputs": [],
   "source": [
    "## Parameters\n",
    "n_inputs = 32 * 32\n",
    "BATCH_SIZE = 1\n",
    "batch_size = tf.placeholder(tf.int64)\n",
    "\n",
    "# using a placeholder\n",
    "x = tf.placeholder(tf.float32, shape=[None,n_inputs])\n",
    "dataset = tf.data.Dataset.from_tensor_slices(x).repeat().batch(batch_size)"
   ]
  },
  {
   "cell_type": "markdown",
   "metadata": {},
   "source": [
    "Note that, `x` is a placeholder with the following shape:\n",
    "\n",
    "-   `[None,n_inputs]`: Set to `None` because the number of image feed to\n",
    "    the network is equal to the batch size.\n",
    "\n",
    "for details, please refer to the tutorial on linear\n",
    "regression.\n",
    "\n",
    "After that, you need to create the iterator. Without this line of code,\n",
    "no data will go through the pipeline."
   ]
  },
  {
   "cell_type": "code",
   "execution_count": 10,
   "metadata": {},
   "outputs": [],
   "source": [
    "iter = dataset.make_initializable_iterator() # create the iterator\n",
    "features = iter.get_next()"
   ]
  },
  {
   "cell_type": "markdown",
   "metadata": {},
   "source": [
    "Now that the pipeline is ready, you can check if the first image is the\n",
    "same as before (i.e., a man on a horse).\n",
    "\n",
    "You set the batch size to 1 because you only want to feed the dataset\n",
    "with one image. You can see the dimension of the data with\n",
    "`print(sess.run(features).shape)`. It is equal to (1, 1024). 1 means\n",
    "only one image with 1024 is feed each. If the batch size is set to two,\n",
    "then two images will go through the pipeline. (Don't change the batch\n",
    "size. Otherwise, it will throw an error. Only one image at a time can go\n",
    "to the function `plot_image()`."
   ]
  },
  {
   "cell_type": "code",
   "execution_count": 11,
   "metadata": {},
   "outputs": [
    {
     "name": "stdout",
     "output_type": "stream",
     "text": [
      "(1, 1024)\n"
     ]
    },
    {
     "data": {
      "image/png": "[encoded data removed]",
      "text/plain": [
       "<Figure size 432x288 with 1 Axes>"
      ]
     },
     "metadata": {},
     "output_type": "display_data"
    }
   ],
   "source": [
    "## Parameters\n",
    "n_inputs = 32 * 32\n",
    "BATCH_SIZE = 1\n",
    "batch_size = tf.placeholder(tf.int64)\n",
    "\n",
    "# using a placeholder\n",
    "x = tf.placeholder(tf.float32, shape=[None,n_inputs])\n",
    "## Dataset\n",
    "dataset = tf.data.Dataset.from_tensor_slices(x).repeat().batch(batch_size)\n",
    "iter = dataset.make_initializable_iterator() # create the iterator\n",
    "features = iter.get_next()\n",
    "\n",
    "## Print the image\n",
    "with tf.Session() as sess:\n",
    "    # feed the placeholder with data\n",
    "    sess.run(iter.initializer, feed_dict={x: horse_x,\n",
    "                                         batch_size: BATCH_SIZE}) \n",
    "    print(sess.run(features).shape) \n",
    "    plot_image(sess.run(features), shape=[32, 32], cmap = \"Greys_r\")\n"
   ]
  },
  {
   "cell_type": "markdown",
   "metadata": {},
   "source": [
    "![](https://github.com/thomaspernet/Tensorflow/blob/master/tensorflow/22_autoencoder_v4_files/image002.png)\n",
    "\n",
    "## Build the network\n",
    "\n",
    "It is time to construct the network. You will train a stacked\n",
    "autoencoder, that is, a network with multiple hidden layers.\n",
    "\n",
    "Your network will have one input layers with 1024 points, i.e., 32x32,\n",
    "the shape of the image.\n",
    "\n",
    "The encoder block will have one top hidden layer with 300 neurons, a\n",
    "central layer with 150 neurons. The decoder block is symmetric to the\n",
    "encoder. You can visualize the network in the picture below. Note that\n",
    "you can change the values of hidden and central layers.\n",
    "\n",
    "![](https://github.com/thomaspernet/Tensorflow/blob/master/tensorflow/22_autoencoder_v4_files/image003.png)\n",
    "\n",
    "Building an autoencoder is very similar to any other deep learning\n",
    "model.\n",
    "\n",
    "You will construct the model following these steps:\n",
    "\n",
    "1.  Define the parameters\n",
    "\n",
    "2.  Define the layers\n",
    "\n",
    "3.  Define the architecture\n",
    "\n",
    "4.  Define the optimization\n",
    "\n",
    "5.  Run the model\n",
    "\n",
    "6.  Evaluate the model\n",
    "\n",
    "In the previous section, you learned how to create a pipeline to feed\n",
    "the model, so there is no need to create once more the dataset. You will\n",
    "construct an autoencoder with four layers. You use the Xavier\n",
    "initialization. This is a technique to set the initial weights equal to\n",
    "the variance of both the input and output. Finally, you use the elu\n",
    "activation function. You regularize the loss function with L2\n",
    "regularizer.\n",
    "\n",
    "**Step 1:** Define the parameters\n",
    "\n",
    "The first step implies to define the number of neurons in each layer,\n",
    "the learning rate and the hyperparameter of the regularizer.\n",
    "\n",
    "Before that, you import the function partially. It is a better method to\n",
    "define the parameters of the dense layers. The code below defines the\n",
    "values of the autoencoder architecture. As listed before, the\n",
    "autoencoder has two layers, with 300 neurons in the first layers and 150\n",
    "in the second layers. Their values are stored in `n_hidden_1` and\n",
    "`n_hidden_2`.\n",
    "\n",
    "You need to define the learning rate and the L2 hyperparameter. The\n",
    "values are stored in `learning_rate` and `l2_reg"
   ]
  },
  {
   "cell_type": "code",
   "execution_count": 12,
   "metadata": {},
   "outputs": [],
   "source": [
    "from functools import partial\n",
    "\n",
    "## Encoder\n",
    "n_hidden_1 = 300\n",
    "n_hidden_2 = 150  # codings\n",
    "\n",
    "## Decoder\n",
    "n_hidden_3 = n_hidden_1\n",
    "n_outputs = n_inputs\n",
    "\n",
    "learning_rate = 0.01\n",
    "l2_reg = 0.0001"
   ]
  },
  {
   "cell_type": "markdown",
   "metadata": {},
   "source": [
    "The Xavier initialization technique is called with the object\n",
    "`xavier_initializer` from the estimator `contrib`. In the same\n",
    "estimator, you can add the regularizer with `l2_regularizer`"
   ]
  },
  {
   "cell_type": "code",
   "execution_count": 13,
   "metadata": {},
   "outputs": [],
   "source": [
    "## Define the Xavier initialization\n",
    "xav_init =  tf.contrib.layers.xavier_initializer()\n",
    "\n",
    "## Define the L2 regularizer\n",
    "l2_regularizer = tf.contrib.layers.l2_regularizer(l2_reg)"
   ]
  },
  {
   "cell_type": "markdown",
   "metadata": {},
   "source": [
    "**Step 2:** Define the layers\n",
    "\n",
    "All the parameters of the dense layers have been set; you can pack\n",
    "everything in the variable `dense_layer` by using the object `partial`.\n",
    "`dense_layer`` which` uses the ELU activation, Xavier initialization,\n",
    "and L2 regularization."
   ]
  },
  {
   "cell_type": "code",
   "execution_count": 14,
   "metadata": {},
   "outputs": [],
   "source": [
    "## Create the dense layer\n",
    "dense_layer = partial(tf.layers.dense,\n",
    "                         activation=tf.nn.elu,\n",
    "                         kernel_initializer=xav_init,\n",
    "                         kernel_regularizer=l2_regularizer)"
   ]
  },
  {
   "cell_type": "markdown",
   "metadata": {},
   "source": [
    "**Step 3:** Define the architecture\n",
    "\n",
    "If you look at the picture of the architecture, you note that the\n",
    "network stacks three layers with an output layer. In the code below, you\n",
    "connect the appropriate layers. For instance, the first layer computes\n",
    "the dot product between the inputs matrice `features` and the matrices\n",
    "containing the 300 weights. After the dot product is computed, the\n",
    "output goes to the Elu activation function. The output becomes the input\n",
    "of the next layer, that is why you use it to compute `hidden_2` and so\n",
    "on. The matrices multiplication are the same for each layer because you\n",
    "use the same activation function. Note that the last layer, `outputs`,\n",
    "does not apply an activation function. It makes sense because this is\n",
    "the reconstructed input"
   ]
  },
  {
   "cell_type": "code",
   "execution_count": 15,
   "metadata": {},
   "outputs": [],
   "source": [
    "## Make the mat mul\n",
    "hidden_1 = dense_layer(features, n_hidden_1)\n",
    "hidden_2 = dense_layer(hidden_1, n_hidden_2)\n",
    "hidden_3 = dense_layer(hidden_2, n_hidden_3)\n",
    "outputs = dense_layer(hidden_3, n_outputs, activation=None)"
   ]
  },
  {
   "cell_type": "markdown",
   "metadata": {},
   "source": [
    "**Step 4:** Define the optimization\n",
    "\n",
    "The last step is to construct the optimizer. You use the Mean Square\n",
    "Error as a loss function. If you recall the tutorial on linear\n",
    "regression, you know that the MSE is computed with the difference\n",
    "between the predicted output and the real label. Here, the label is the\n",
    "feature because the model tries to reconstruct the input. Therefore, you\n",
    "want the mean of the sum of difference of the square between predicted\n",
    "output and input. With TensorFlow, you can code the loss function as\n",
    "follow:"
   ]
  },
  {
   "cell_type": "code",
   "execution_count": 16,
   "metadata": {},
   "outputs": [],
   "source": [
    "loss = tf.reduce_mean(tf.square(outputs - features))"
   ]
  },
  {
   "cell_type": "markdown",
   "metadata": {},
   "source": [
    "Then, you need to optimize the loss function. You use Adam optimizer to\n",
    "compute the gradients. The objective function is to minimize the loss."
   ]
  },
  {
   "cell_type": "code",
   "execution_count": 17,
   "metadata": {},
   "outputs": [],
   "source": [
    "## Optimize\n",
    "loss = tf.reduce_mean(tf.square(outputs - features))\n",
    "optimizer = tf.train.AdamOptimizer(learning_rate)\n",
    "train  = optimizer.minimize(loss)"
   ]
  },
  {
   "cell_type": "markdown",
   "metadata": {},
   "source": [
    "One more setting before training the model. You want to use a batch size\n",
    "of 150, that is, feed the pipeline with 150 images each iteration. You\n",
    "need to compute the number of iterations manually. This is trivial to\n",
    "do:\n",
    "\n",
    "If you want to pass 150 images each time and you know there are 5000\n",
    "images in the dataset, the number of iterations is equal to\n",
    "$5000/150 = 33$. In python you can run the following codes and make sure\n",
    "the output is 33:"
   ]
  },
  {
   "cell_type": "code",
   "execution_count": 18,
   "metadata": {},
   "outputs": [
    {
     "name": "stdout",
     "output_type": "stream",
     "text": [
      "33\n"
     ]
    }
   ],
   "source": [
    "BATCH_SIZE = 150\n",
    "### Number of batches :  length dataset / batch size\n",
    "n_batches = horse_x.shape[0] // BATCH_SIZE\n",
    "print(n_batches)"
   ]
  },
  {
   "cell_type": "markdown",
   "metadata": {},
   "source": [
    "**Step 5:** Run the model\n",
    "\n",
    "Last but not least, train the model. You are training the model with 100\n",
    "epochs. That is, the model will see 100 times the images to optimized\n",
    "weights.\n",
    "\n",
    "You are already familiar with the codes to train a model in Tensorflow.\n",
    "The slight difference is to pipe the data before running the training.\n",
    "In this way, the model trains faster.\n",
    "\n",
    "You are interested in printing the loss after ten epochs to see if the\n",
    "model is learning something (i.e., the loss is decreasing). The training\n",
    "takes 2 to 5 minutes, depending on your machine hardware."
   ]
  },
  {
   "cell_type": "code",
   "execution_count": 19,
   "metadata": {},
   "outputs": [
    {
     "name": "stdout",
     "output_type": "stream",
     "text": [
      "Training...\n",
      "(150, 1024)\n",
      "0 Train MSE: 2919.6782\n",
      "10 Train MSE: 2054.4812\n",
      "20 Train MSE: 1640.9764\n",
      "30 Train MSE: 1438.6802\n",
      "40 Train MSE: 1254.9784\n",
      "50 Train MSE: 1289.5447\n",
      "60 Train MSE: 1529.8217\n",
      "70 Train MSE: 1309.8997\n",
      "80 Train MSE: 1306.5502\n",
      "90 Train MSE: 1254.3444\n",
      "Model saved in path: ./model.ckpt\n"
     ]
    }
   ],
   "source": [
    "## Set params\n",
    "n_epochs = 100\n",
    "\n",
    "## Call Saver to save the model and re-use it later during evaluation\n",
    "saver = tf.train.Saver()\n",
    "\n",
    "with tf.Session() as sess:\n",
    "    sess.run(tf.global_variables_initializer())\n",
    "    # initialise iterator with train data\n",
    "    sess.run(iter.initializer, feed_dict={x: horse_x,\n",
    "                                          batch_size: BATCH_SIZE})\n",
    "    print('Training...')\n",
    "    print(sess.run(features).shape) \n",
    "    for epoch in range(n_epochs):       \n",
    "        for iteration in range(n_batches):\n",
    "            sess.run(train)\n",
    "        if epoch % 10 == 0:\n",
    "            loss_train = loss.eval()   # not shown\n",
    "            print(\"\\r{}\".format(epoch), \"Train MSE:\", loss_train) \n",
    "        #saver.save(sess, \"./my_model_all_layers.ckpt\") \n",
    "    save_path = saver.save(sess, \"./model.ckpt\")    \n",
    "    print(\"Model saved in path: %s\" % save_path)  "
   ]
  },
  {
   "cell_type": "markdown",
   "metadata": {},
   "source": [
    "**Step 6:** Evaluate the model\n",
    "\n",
    "Now that you have your model trained, it is time to evaluate it. You\n",
    "need to import the test sert from the file `/cifar-10-batches-py/`."
   ]
  },
  {
   "cell_type": "code",
   "execution_count": 21,
   "metadata": {},
   "outputs": [],
   "source": [
    "test_data = unpickle('/Users/Thomas/Downloads/cifar-10-batches-py/test_batch')\n",
    "test_x = grayscale(test_data['data'])\n",
    "#test_labels = np.array(test_data['labels'])"
   ]
  },
  {
   "cell_type": "markdown",
   "metadata": {},
   "source": [
    "NOTE: For a Windows machine, the code becomes `test_data = unpickle(r\"E:\\cifar-10-batches-py\\test_batch\")`\n",
    "You can try to print the images 13, which is an horse"
   ]
  },
  {
   "cell_type": "code",
   "execution_count": 22,
   "metadata": {},
   "outputs": [
    {
     "data": {
      "image/png": "[encoded data removed]",
      "text/plain": [
       "<Figure size 432x288 with 1 Axes>"
      ]
     },
     "metadata": {},
     "output_type": "display_data"
    }
   ],
   "source": [
    "plot_image(test_x[13], shape=[32, 32], cmap = \"Greys_r\")"
   ]
  },
  {
   "cell_type": "markdown",
   "metadata": {},
   "source": [
    "![](https://github.com/thomaspernet/Tensorflow/blob/master/tensorflow/22_autoencoder_v4_files/image004.png)\n",
    "\n",
    "To evaluate the model, you will use the pixel value of this image and\n",
    "see if the encoder can reconstruct the same image after shrinking 1024\n",
    "pixels. Note that, you define a function to evaluate the model on\n",
    "different pictures. The model should work better only on horses.\n",
    "\n",
    "The function takes two arguments:\n",
    "\n",
    "-   `df`: Import the test data\n",
    "\n",
    "-   `image_number`: indicate what image to import\n",
    "\n",
    "The function is divided into three parts:\n",
    "\n",
    "1.  Reshape the image to the correct dimension i.e 1, 1024\n",
    "\n",
    "2.  Feed the model with the unseen image, encode/decode the image\n",
    "\n",
    "3.  Print the real and reconstructed image"
   ]
  },
  {
   "cell_type": "code",
   "execution_count": 23,
   "metadata": {},
   "outputs": [],
   "source": [
    "def reconstruct_image(df, image_number = 1):\n",
    "    ## Part 1: Reshape the image to the correct dimension i.e 1, 1024\n",
    "    x_test = df[image_number]\n",
    "    x_test_1 = x_test.reshape((1, 32*32))\n",
    "    \n",
    "    ## Part 2: Feed the model with the unseen image, encode/decode the image\n",
    "    with tf.Session() as sess:     \n",
    "        sess.run(tf.global_variables_initializer()) \n",
    "        sess.run(iter.initializer, feed_dict={x: x_test_1,\n",
    "                                      batch_size: 1})\n",
    "    ## Part 3:  Print the real and reconstructed image\n",
    "      # Restore variables from disk.\n",
    "        saver.restore(sess, \"./model.ckpt\")  \n",
    "        print(\"Model restored.\")\n",
    "      # Reconstruct image\n",
    "        outputs_val = outputs.eval()\n",
    "        print(outputs_val.shape)\n",
    "        fig = plt.figure()\n",
    "      # Plot real\n",
    "        ax1 = fig.add_subplot(121)\n",
    "        plot_image(x_test_1, shape=[32, 32], cmap = \"Greys_r\")\n",
    "      # Plot estimated\n",
    "        ax2 = fig.add_subplot(122)\n",
    "        plot_image(outputs_val, shape=[32, 32], cmap = \"Greys_r\")\n",
    "        plt.tight_layout()\n",
    "        fig = plt.gcf()"
   ]
  },
  {
   "cell_type": "markdown",
   "metadata": {},
   "source": [
    "Now that the evaluation function is defined, you can have a look of the\n",
    "reconstructed image number thirteen"
   ]
  },
  {
   "cell_type": "code",
   "execution_count": 24,
   "metadata": {},
   "outputs": [
    {
     "name": "stdout",
     "output_type": "stream",
     "text": [
      "INFO:tensorflow:Restoring parameters from ./model.ckpt\n",
      "Model restored.\n",
      "(1, 1024)\n"
     ]
    },
    {
     "data": {
      "image/png": "[encoded data removed]",
      "text/plain": [
       "<Figure size 432x288 with 2 Axes>"
      ]
     },
     "metadata": {},
     "output_type": "display_data"
    }
   ],
   "source": [
    "reconstruct_image(df =test_x, image_number = 13)\n"
   ]
  },
  {
   "cell_type": "markdown",
   "metadata": {},
   "source": [
    "![](https://github.com/thomaspernet/Tensorflow/blob/master/tensorflow/22_autoencoder_v4_files/image005.png)\n",
    "\n",
    "## Summary\n",
    "\n",
    "The primary purpose of an autoencoder is to compress the input data, and\n",
    "then uncompress it into an output that looks closely like the original\n",
    "data.\n",
    "\n",
    "The architecture of an autoencoder symmetrical with a pivot layer named\n",
    "the central layer.\n",
    "\n",
    "You can create the autoencoder using:\n",
    "\n",
    "-   Partial: to create the dense layers with the typical setting:"
   ]
  },
  {
   "cell_type": "markdown",
   "metadata": {},
   "source": [
    "\n",
    "-   `tf.layers.dense,\n",
    "activation=tf.nn.elu,\n",
    "kernel_initializer=xav_init,\n",
    "kernel_regularizer=l2_regularizer`"
   ]
  },
  {
   "cell_type": "markdown",
   "metadata": {},
   "source": [
    "-   `dense_layer()`: to make the matrix multiplication\n",
    "\n",
    "- you can define the loss function and optimization with:\n",
    "    - `loss = tf.reduce_mean(tf.square(outputs - features)) \n",
    "    optimizer = tf.train.AdamOptimizer(learning_rate)\n",
    "    train = optimizer.minimize(loss)`\n",
    "\n",
    "Last run a session to train the model."
   ]
  }
 ],
 "metadata": {
  "kernelspec": {
   "display_name": "Python 3",
   "language": "python",
   "name": "python3"
  },
  "language_info": {
   "codemirror_mode": {
    "name": "ipython",
    "version": 3
   },
   "file_extension": ".py",
   "mimetype": "text/x-python",
   "name": "python",
   "nbconvert_exporter": "python",
   "pygments_lexer": "ipython3",
   "version": "3.6.6"
  }
 },
 "nbformat": 4,
 "nbformat_minor": 2
}
